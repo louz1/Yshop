{
 "cells": [
  {
   "cell_type": "markdown",
   "id": "ad27376c",
   "metadata": {},
   "source": [
    "# Projet Yshop - Prédiction des Ventes\n",
    "\n",
    "## Présentation du Projet\n",
    "\n",
    "**Yshop** est une petite boutique en ligne spécialisée dans les produits artisanaux. Ce projet vise à utiliser des techniques de machine learning pour prédire les ventes futures et optimiser la gestion des stocks.\n",
    "\n",
    "### Objectifs:\n",
    "- Collecter et analyser les données de ventes historiques\n",
    "- Développer un modèle de prédiction des ventes\n",
    "- Visualiser les prédictions et les tendances de ventes\n",
    "- Créer une interface de visualisation interactive\n",
    "\n",
    "### Plan du Notebook:\n",
    "1. **Acquisition et Préparation des Données**\n",
    "2. **Analyse Exploratoire des Données (EDA)**\n",
    "3. **Modélisation Prédictive**\n",
    "4. **Visualisations et Data Storytelling**\n",
    "5. **Conclusions et Recommandations**"
   ]
  },
  {
   "cell_type": "markdown",
   "id": "a23121e6",
   "metadata": {},
   "source": [
    "## 1. Importation des Bibliothèques"
   ]
  },
  {
   "cell_type": "code",
   "execution_count": 44,
   "id": "a3698a7b",
   "metadata": {},
   "outputs": [
    {
     "data": {
      "text/html": [
       "        <script type=\"text/javascript\">\n",
       "        window.PlotlyConfig = {MathJaxConfig: 'local'};\n",
       "        if (window.MathJax && window.MathJax.Hub && window.MathJax.Hub.Config) {window.MathJax.Hub.Config({SVG: {font: \"STIX-Web\"}});}\n",
       "        </script>\n",
       "        <script type=\"module\">import \"https://cdn.plot.ly/plotly-3.0.1.min\"</script>\n",
       "        "
      ]
     },
     "metadata": {},
     "output_type": "display_data"
    },
    {
     "name": "stdout",
     "output_type": "stream",
     "text": [
      "Toutes les bibliothèques ont été importées avec succès!\n",
      "Pandas version: 2.2.3\n",
      "NumPy version: 2.2.5\n",
      "Scikit-learn version: 1.6.1\n"
     ]
    }
   ],
   "source": [
    "# Bibliothèques pour la manipulation des données\n",
    "import pandas as pd\n",
    "import numpy as np\n",
    "from datetime import datetime, timedelta\n",
    "import warnings\n",
    "warnings.filterwarnings('ignore')\n",
    "\n",
    "# Bibliothèques pour la visualisation\n",
    "import matplotlib.pyplot as plt\n",
    "import seaborn as sns\n",
    "import plotly.express as px\n",
    "import plotly.graph_objects as go\n",
    "from plotly.subplots import make_subplots\n",
    "import plotly.offline as pyo\n",
    "\n",
    "# Bibliothèques pour le machine learning\n",
    "from sklearn.model_selection import train_test_split, cross_val_score, GridSearchCV\n",
    "from sklearn.linear_model import LinearRegression\n",
    "from sklearn.ensemble import RandomForestRegressor\n",
    "from sklearn.metrics import mean_squared_error, mean_absolute_error, r2_score\n",
    "from sklearn.preprocessing import StandardScaler, LabelEncoder\n",
    "import sklearn\n",
    "\n",
    "# Configuration des graphiques\n",
    "plt.style.use('seaborn-v0_8')\n",
    "sns.set_palette(\"husl\")\n",
    "pyo.init_notebook_mode(connected=True)\n",
    "\n",
    "print(\"Toutes les bibliothèques ont été importées avec succès!\")\n",
    "print(f\"Pandas version: {pd.__version__}\")\n",
    "print(f\"NumPy version: {np.__version__}\")\n",
    "print(f\"Scikit-learn version: {sklearn.__version__}\")"
   ]
  },
  {
   "cell_type": "markdown",
   "id": "8bf49570",
   "metadata": {},
   "source": [
    "## 2. Acquisition et Préparation des Données 📥\n",
    "\n",
    "Dans cette section, nous allons :\n",
    "- Charger les données de ventes historiques\n",
    "- Explorer la structure des données\n",
    "- Nettoyer les données (valeurs manquantes, doublons, valeurs aberrantes)\n",
    "- Préparer les données pour l'analyse"
   ]
  },
  {
   "cell_type": "code",
   "execution_count": 45,
   "id": "27fed385",
   "metadata": {},
   "outputs": [
    {
     "name": "stdout",
     "output_type": "stream",
     "text": [
      "Fichiers disponibles dans le répertoire de travail :\n",
      "Répertoire actuel : c:\\Users\\kadem\\PAV\\Projet\n",
      "\n",
      "Fichiers de données trouvés :\n",
      "  - yshop_predictions.csv\n",
      "  - yshop_sales_data.csv\n",
      "  - Online.xlsx\n",
      "\n",
      "==================================================\n"
     ]
    }
   ],
   "source": [
    "# Vérification des fichiers disponibles dans le répertoire de travail\n",
    "import os\n",
    "import glob\n",
    "\n",
    "print(\"Fichiers disponibles dans le répertoire de travail :\")\n",
    "current_dir = os.getcwd()\n",
    "print(f\"Répertoire actuel : {current_dir}\")\n",
    "\n",
    "# Recherche de fichiers de données\n",
    "data_files = glob.glob(\"*.csv\") + glob.glob(\"*.xlsx\") + glob.glob(\"*.xls\") + glob.glob(\"*.json\")\n",
    "if data_files:\n",
    "    print(\"\\nFichiers de données trouvés :\")\n",
    "    for file in data_files:\n",
    "        print(f\"  - {file}\")\n",
    "else:\n",
    "    print(\"\\nAucun fichier de données trouvé (.csv, .xlsx, .xls, .json)\")\n",
    "\n",
    "print(\"\\n\" + \"=\"*50)"
   ]
  },
  {
   "cell_type": "code",
   "execution_count": 46,
   "id": "dfe7fedf",
   "metadata": {},
   "outputs": [
    {
     "name": "stdout",
     "output_type": "stream",
     "text": [
      "CHARGEMENT DU DATASET Online.xlsx\n",
      "==================================================\n",
      "Dataset chargé depuis Online.xlsx\n",
      "541910 lignes et 8 colonnes\n",
      "Dataset chargé depuis Online.xlsx\n",
      "541910 lignes et 8 colonnes\n"
     ]
    }
   ],
   "source": [
    "# Chargement direct du fichier Online.xlsx\n",
    "print(\"CHARGEMENT DU DATASET Online.xlsx\")\n",
    "print(\"=\" * 50)\n",
    "\n",
    "try:\n",
    "    df_raw = pd.read_excel('Online.xlsx')\n",
    "    print(f\"Dataset chargé depuis Online.xlsx\")\n",
    "    print(f\"{len(df_raw)} lignes et {len(df_raw.columns)} colonnes\")\n",
    "except Exception as e:\n",
    "    print(f\"Erreur lors du chargement: {e}\")\n",
    "    df_raw = None"
   ]
  },
  {
   "cell_type": "code",
   "execution_count": 47,
   "id": "6aaf8017",
   "metadata": {},
   "outputs": [
    {
     "name": "stdout",
     "output_type": "stream",
     "text": [
      "🔍 EXPLORATION DU FICHIER Online.xlsx\n",
      "==================================================\n",
      " Forme du dataset: (541910, 8)\n",
      " Colonnes disponibles: ['Invoice', 'StockCode', 'Description', 'Quantity', 'InvoiceDate', 'Price', 'Customer ID', 'Country']\n",
      "\n",
      " Aperçu des premières lignes:\n",
      " Forme du dataset: (541910, 8)\n",
      " Colonnes disponibles: ['Invoice', 'StockCode', 'Description', 'Quantity', 'InvoiceDate', 'Price', 'Customer ID', 'Country']\n",
      "\n",
      " Aperçu des premières lignes:\n"
     ]
    },
    {
     "data": {
      "text/html": [
       "<div>\n",
       "<style scoped>\n",
       "    .dataframe tbody tr th:only-of-type {\n",
       "        vertical-align: middle;\n",
       "    }\n",
       "\n",
       "    .dataframe tbody tr th {\n",
       "        vertical-align: top;\n",
       "    }\n",
       "\n",
       "    .dataframe thead th {\n",
       "        text-align: right;\n",
       "    }\n",
       "</style>\n",
       "<table border=\"1\" class=\"dataframe\">\n",
       "  <thead>\n",
       "    <tr style=\"text-align: right;\">\n",
       "      <th></th>\n",
       "      <th>Invoice</th>\n",
       "      <th>StockCode</th>\n",
       "      <th>Description</th>\n",
       "      <th>Quantity</th>\n",
       "      <th>InvoiceDate</th>\n",
       "      <th>Price</th>\n",
       "      <th>Customer ID</th>\n",
       "      <th>Country</th>\n",
       "    </tr>\n",
       "  </thead>\n",
       "  <tbody>\n",
       "    <tr>\n",
       "      <th>0</th>\n",
       "      <td>536365</td>\n",
       "      <td>85123A</td>\n",
       "      <td>WHITE HANGING HEART T-LIGHT HOLDER</td>\n",
       "      <td>6</td>\n",
       "      <td>2010-12-01 08:26:00</td>\n",
       "      <td>2.55</td>\n",
       "      <td>17850.0</td>\n",
       "      <td>United Kingdom</td>\n",
       "    </tr>\n",
       "    <tr>\n",
       "      <th>1</th>\n",
       "      <td>536365</td>\n",
       "      <td>71053</td>\n",
       "      <td>WHITE METAL LANTERN</td>\n",
       "      <td>6</td>\n",
       "      <td>2010-12-01 08:26:00</td>\n",
       "      <td>3.39</td>\n",
       "      <td>17850.0</td>\n",
       "      <td>United Kingdom</td>\n",
       "    </tr>\n",
       "    <tr>\n",
       "      <th>2</th>\n",
       "      <td>536365</td>\n",
       "      <td>84406B</td>\n",
       "      <td>CREAM CUPID HEARTS COAT HANGER</td>\n",
       "      <td>8</td>\n",
       "      <td>2010-12-01 08:26:00</td>\n",
       "      <td>2.75</td>\n",
       "      <td>17850.0</td>\n",
       "      <td>United Kingdom</td>\n",
       "    </tr>\n",
       "    <tr>\n",
       "      <th>3</th>\n",
       "      <td>536365</td>\n",
       "      <td>84029G</td>\n",
       "      <td>KNITTED UNION FLAG HOT WATER BOTTLE</td>\n",
       "      <td>6</td>\n",
       "      <td>2010-12-01 08:26:00</td>\n",
       "      <td>3.39</td>\n",
       "      <td>17850.0</td>\n",
       "      <td>United Kingdom</td>\n",
       "    </tr>\n",
       "    <tr>\n",
       "      <th>4</th>\n",
       "      <td>536365</td>\n",
       "      <td>84029E</td>\n",
       "      <td>RED WOOLLY HOTTIE WHITE HEART.</td>\n",
       "      <td>6</td>\n",
       "      <td>2010-12-01 08:26:00</td>\n",
       "      <td>3.39</td>\n",
       "      <td>17850.0</td>\n",
       "      <td>United Kingdom</td>\n",
       "    </tr>\n",
       "  </tbody>\n",
       "</table>\n",
       "</div>"
      ],
      "text/plain": [
       "  Invoice StockCode                          Description  Quantity  \\\n",
       "0  536365    85123A   WHITE HANGING HEART T-LIGHT HOLDER         6   \n",
       "1  536365     71053                  WHITE METAL LANTERN         6   \n",
       "2  536365    84406B       CREAM CUPID HEARTS COAT HANGER         8   \n",
       "3  536365    84029G  KNITTED UNION FLAG HOT WATER BOTTLE         6   \n",
       "4  536365    84029E       RED WOOLLY HOTTIE WHITE HEART.         6   \n",
       "\n",
       "          InvoiceDate  Price  Customer ID         Country  \n",
       "0 2010-12-01 08:26:00   2.55      17850.0  United Kingdom  \n",
       "1 2010-12-01 08:26:00   3.39      17850.0  United Kingdom  \n",
       "2 2010-12-01 08:26:00   2.75      17850.0  United Kingdom  \n",
       "3 2010-12-01 08:26:00   3.39      17850.0  United Kingdom  \n",
       "4 2010-12-01 08:26:00   3.39      17850.0  United Kingdom  "
      ]
     },
     "metadata": {},
     "output_type": "display_data"
    },
    {
     "name": "stdout",
     "output_type": "stream",
     "text": [
      "\n",
      " Informations sur les colonnes:\n",
      "<class 'pandas.core.frame.DataFrame'>\n",
      "RangeIndex: 541910 entries, 0 to 541909\n",
      "Data columns (total 8 columns):\n",
      " #   Column       Non-Null Count   Dtype         \n",
      "---  ------       --------------   -----         \n",
      " 0   Invoice      541910 non-null  object        \n",
      " 1   StockCode    541910 non-null  object        \n",
      " 2   Description  540456 non-null  object        \n",
      " 3   Quantity     541910 non-null  int64         \n",
      " 4   InvoiceDate  541910 non-null  datetime64[ns]\n",
      " 5   Price        541910 non-null  float64       \n",
      " 6   Customer ID  406830 non-null  float64       \n",
      " 7   Country      541910 non-null  object        \n",
      "dtypes: datetime64[ns](1), float64(2), int64(1), object(4)\n",
      "memory usage: 33.1+ MB\n",
      "None\n",
      "\n",
      " Types de données:\n",
      "  - Invoice: object\n",
      "  - StockCode: object\n",
      "  - Description: object\n",
      "  - Quantity: int64\n",
      "  - InvoiceDate: datetime64[ns]\n",
      "  - Price: float64\n",
      "  - Customer ID: float64\n",
      "  - Country: object\n",
      "\n",
      " Statistiques descriptives pour les colonnes numériques:\n"
     ]
    },
    {
     "data": {
      "text/html": [
       "<div>\n",
       "<style scoped>\n",
       "    .dataframe tbody tr th:only-of-type {\n",
       "        vertical-align: middle;\n",
       "    }\n",
       "\n",
       "    .dataframe tbody tr th {\n",
       "        vertical-align: top;\n",
       "    }\n",
       "\n",
       "    .dataframe thead th {\n",
       "        text-align: right;\n",
       "    }\n",
       "</style>\n",
       "<table border=\"1\" class=\"dataframe\">\n",
       "  <thead>\n",
       "    <tr style=\"text-align: right;\">\n",
       "      <th></th>\n",
       "      <th>Quantity</th>\n",
       "      <th>InvoiceDate</th>\n",
       "      <th>Price</th>\n",
       "      <th>Customer ID</th>\n",
       "    </tr>\n",
       "  </thead>\n",
       "  <tbody>\n",
       "    <tr>\n",
       "      <th>count</th>\n",
       "      <td>541910.000000</td>\n",
       "      <td>541910</td>\n",
       "      <td>541910.000000</td>\n",
       "      <td>406830.000000</td>\n",
       "    </tr>\n",
       "    <tr>\n",
       "      <th>mean</th>\n",
       "      <td>9.552234</td>\n",
       "      <td>2011-07-04 13:35:22.342307584</td>\n",
       "      <td>4.611138</td>\n",
       "      <td>15287.684160</td>\n",
       "    </tr>\n",
       "    <tr>\n",
       "      <th>min</th>\n",
       "      <td>-80995.000000</td>\n",
       "      <td>2010-12-01 08:26:00</td>\n",
       "      <td>-11062.060000</td>\n",
       "      <td>12346.000000</td>\n",
       "    </tr>\n",
       "    <tr>\n",
       "      <th>25%</th>\n",
       "      <td>1.000000</td>\n",
       "      <td>2011-03-28 11:34:00</td>\n",
       "      <td>1.250000</td>\n",
       "      <td>13953.000000</td>\n",
       "    </tr>\n",
       "    <tr>\n",
       "      <th>50%</th>\n",
       "      <td>3.000000</td>\n",
       "      <td>2011-07-19 17:17:00</td>\n",
       "      <td>2.080000</td>\n",
       "      <td>15152.000000</td>\n",
       "    </tr>\n",
       "    <tr>\n",
       "      <th>75%</th>\n",
       "      <td>10.000000</td>\n",
       "      <td>2011-10-19 11:27:00</td>\n",
       "      <td>4.130000</td>\n",
       "      <td>16791.000000</td>\n",
       "    </tr>\n",
       "    <tr>\n",
       "      <th>max</th>\n",
       "      <td>80995.000000</td>\n",
       "      <td>2011-12-09 12:50:00</td>\n",
       "      <td>38970.000000</td>\n",
       "      <td>18287.000000</td>\n",
       "    </tr>\n",
       "    <tr>\n",
       "      <th>std</th>\n",
       "      <td>218.080957</td>\n",
       "      <td>NaN</td>\n",
       "      <td>96.759765</td>\n",
       "      <td>1713.603074</td>\n",
       "    </tr>\n",
       "  </tbody>\n",
       "</table>\n",
       "</div>"
      ],
      "text/plain": [
       "            Quantity                    InvoiceDate          Price  \\\n",
       "count  541910.000000                         541910  541910.000000   \n",
       "mean        9.552234  2011-07-04 13:35:22.342307584       4.611138   \n",
       "min    -80995.000000            2010-12-01 08:26:00  -11062.060000   \n",
       "25%         1.000000            2011-03-28 11:34:00       1.250000   \n",
       "50%         3.000000            2011-07-19 17:17:00       2.080000   \n",
       "75%        10.000000            2011-10-19 11:27:00       4.130000   \n",
       "max     80995.000000            2011-12-09 12:50:00   38970.000000   \n",
       "std       218.080957                            NaN      96.759765   \n",
       "\n",
       "         Customer ID  \n",
       "count  406830.000000  \n",
       "mean    15287.684160  \n",
       "min     12346.000000  \n",
       "25%     13953.000000  \n",
       "50%     15152.000000  \n",
       "75%     16791.000000  \n",
       "max     18287.000000  \n",
       "std      1713.603074  "
      ]
     },
     "metadata": {},
     "output_type": "display_data"
    },
    {
     "name": "stdout",
     "output_type": "stream",
     "text": [
      "\n",
      " Recherche de colonnes de date:\n",
      "  - Invoice: [536365 536365 536365 536365 536365]\n",
      "    → Potentielle colonne de date détectée !\n",
      "  - StockCode: ['85123A' 71053 '84406B' '84029G' '84029E']\n",
      "  - Description: ['WHITE HANGING HEART T-LIGHT HOLDER' 'WHITE METAL LANTERN'\n",
      " 'CREAM CUPID HEARTS COAT HANGER' 'KNITTED UNION FLAG HOT WATER BOTTLE'\n",
      " 'RED WOOLLY HOTTIE WHITE HEART.']\n",
      "  - Quantity: [6 6 8 6 6]\n",
      "  - InvoiceDate: ['2010-12-01T08:26:00.000000000' '2010-12-01T08:26:00.000000000'\n",
      " '2010-12-01T08:26:00.000000000' '2010-12-01T08:26:00.000000000'\n",
      " '2010-12-01T08:26:00.000000000']\n",
      "  - Price: [2.55 3.39 2.75 3.39 3.39]\n",
      "  - Customer ID: [17850. 17850. 17850. 17850. 17850.]\n",
      "  - Country: ['United Kingdom' 'United Kingdom' 'United Kingdom' 'United Kingdom'\n",
      " 'United Kingdom']\n",
      "ANALYSE EXPLORATOIRE COMPLÈTE DES DONNÉES\n",
      "============================================================\n",
      "1. STRUCTURE GÉNÉRALE\n",
      "------------------------------\n",
      "Forme du dataset : (541910, 8)\n",
      "Colonnes : ['Invoice', 'StockCode', 'Description', 'Quantity', 'InvoiceDate', 'Price', 'Customer ID', 'Country']\n",
      "Types de données :\n",
      "Invoice                object\n",
      "StockCode              object\n",
      "Description            object\n",
      "Quantity                int64\n",
      "InvoiceDate    datetime64[ns]\n",
      "Price                 float64\n",
      "Customer ID           float64\n",
      "Country                object\n",
      "dtype: object\n",
      "\n",
      "2. APERÇU DES PREMIÈRES LIGNES\n",
      "------------------------------\n",
      "  Invoice StockCode                          Description  Quantity  \\\n",
      "0  536365    85123A   WHITE HANGING HEART T-LIGHT HOLDER         6   \n",
      "1  536365     71053                  WHITE METAL LANTERN         6   \n",
      "2  536365    84406B       CREAM CUPID HEARTS COAT HANGER         8   \n",
      "3  536365    84029G  KNITTED UNION FLAG HOT WATER BOTTLE         6   \n",
      "4  536365    84029E       RED WOOLLY HOTTIE WHITE HEART.         6   \n",
      "5  536365     22752         SET 7 BABUSHKA NESTING BOXES         2   \n",
      "6  536365     21730    GLASS STAR FROSTED T-LIGHT HOLDER         6   \n",
      "7  536366     22633               HAND WARMER UNION JACK         6   \n",
      "8  536366     22632            HAND WARMER RED POLKA DOT         6   \n",
      "9  536368     22960             JAM MAKING SET WITH JARS         6   \n",
      "\n",
      "          InvoiceDate  Price  Customer ID         Country  \n",
      "0 2010-12-01 08:26:00   2.55      17850.0  United Kingdom  \n",
      "1 2010-12-01 08:26:00   3.39      17850.0  United Kingdom  \n",
      "2 2010-12-01 08:26:00   2.75      17850.0  United Kingdom  \n",
      "3 2010-12-01 08:26:00   3.39      17850.0  United Kingdom  \n",
      "4 2010-12-01 08:26:00   3.39      17850.0  United Kingdom  \n",
      "5 2010-12-01 08:26:00   7.65      17850.0  United Kingdom  \n",
      "6 2010-12-01 08:26:00   4.25      17850.0  United Kingdom  \n",
      "7 2010-12-01 08:28:00   1.85      17850.0  United Kingdom  \n",
      "8 2010-12-01 08:28:00   1.85      17850.0  United Kingdom  \n",
      "9 2010-12-01 08:34:00   4.25      13047.0  United Kingdom  \n",
      "\n",
      "3. INFORMATIONS GÉNÉRALES\n",
      "------------------------------\n",
      "<class 'pandas.core.frame.DataFrame'>\n",
      "RangeIndex: 541910 entries, 0 to 541909\n",
      "Data columns (total 8 columns):\n",
      " #   Column       Non-Null Count   Dtype         \n",
      "---  ------       --------------   -----         \n",
      " 0   Invoice      541910 non-null  object        \n",
      " 1   StockCode    541910 non-null  object        \n",
      " 2   Description  540456 non-null  object        \n",
      " 3   Quantity     541910 non-null  int64         \n",
      " 4   InvoiceDate  541910 non-null  datetime64[ns]\n",
      " 5   Price        541910 non-null  float64       \n",
      " 6   Customer ID  406830 non-null  float64       \n",
      " 7   Country      541910 non-null  object        \n",
      "dtypes: datetime64[ns](1), float64(2), int64(1), object(4)\n",
      "memory usage: 33.1+ MB\n",
      "None\n",
      "\n",
      "4. STATISTIQUES DESCRIPTIVES\n",
      "------------------------------\n",
      "            Quantity                    InvoiceDate          Price  \\\n",
      "count  541910.000000                         541910  541910.000000   \n",
      "mean        9.552234  2011-07-04 13:35:22.342307584       4.611138   \n",
      "min    -80995.000000            2010-12-01 08:26:00  -11062.060000   \n",
      "25%         1.000000            2011-03-28 11:34:00       1.250000   \n",
      "50%         3.000000            2011-07-19 17:17:00       2.080000   \n",
      "75%        10.000000            2011-10-19 11:27:00       4.130000   \n",
      "max     80995.000000            2011-12-09 12:50:00   38970.000000   \n",
      "std       218.080957                            NaN      96.759765   \n",
      "\n",
      "         Customer ID  \n",
      "count  406830.000000  \n",
      "mean    15287.684160  \n",
      "min     12346.000000  \n",
      "25%     13953.000000  \n",
      "50%     15152.000000  \n",
      "75%     16791.000000  \n",
      "max     18287.000000  \n",
      "std      1713.603074  \n",
      "\n",
      "5. VALEURS MANQUANTES\n",
      "------------------------------\n",
      "<class 'pandas.core.frame.DataFrame'>\n",
      "RangeIndex: 541910 entries, 0 to 541909\n",
      "Data columns (total 8 columns):\n",
      " #   Column       Non-Null Count   Dtype         \n",
      "---  ------       --------------   -----         \n",
      " 0   Invoice      541910 non-null  object        \n",
      " 1   StockCode    541910 non-null  object        \n",
      " 2   Description  540456 non-null  object        \n",
      " 3   Quantity     541910 non-null  int64         \n",
      " 4   InvoiceDate  541910 non-null  datetime64[ns]\n",
      " 5   Price        541910 non-null  float64       \n",
      " 6   Customer ID  406830 non-null  float64       \n",
      " 7   Country      541910 non-null  object        \n",
      "dtypes: datetime64[ns](1), float64(2), int64(1), object(4)\n",
      "memory usage: 33.1+ MB\n",
      "None\n",
      "\n",
      "4. STATISTIQUES DESCRIPTIVES\n",
      "------------------------------\n",
      "            Quantity                    InvoiceDate          Price  \\\n",
      "count  541910.000000                         541910  541910.000000   \n",
      "mean        9.552234  2011-07-04 13:35:22.342307584       4.611138   \n",
      "min    -80995.000000            2010-12-01 08:26:00  -11062.060000   \n",
      "25%         1.000000            2011-03-28 11:34:00       1.250000   \n",
      "50%         3.000000            2011-07-19 17:17:00       2.080000   \n",
      "75%        10.000000            2011-10-19 11:27:00       4.130000   \n",
      "max     80995.000000            2011-12-09 12:50:00   38970.000000   \n",
      "std       218.080957                            NaN      96.759765   \n",
      "\n",
      "         Customer ID  \n",
      "count  406830.000000  \n",
      "mean    15287.684160  \n",
      "min     12346.000000  \n",
      "25%     13953.000000  \n",
      "50%     15152.000000  \n",
      "75%     16791.000000  \n",
      "max     18287.000000  \n",
      "std      1713.603074  \n",
      "\n",
      "5. VALEURS MANQUANTES\n",
      "------------------------------\n",
      "Description      1454\n",
      "Customer ID    135080\n",
      "dtype: int64\n",
      "\n",
      "6. VALEURS UNIQUES PAR COLONNE\n",
      "------------------------------\n",
      "Invoice: 25900 valeurs uniques\n",
      "StockCode: 4070 valeurs uniques\n",
      "Description: 4223 valeurs uniques\n",
      "Quantity: 722 valeurs uniques\n",
      "InvoiceDate: 23260 valeurs uniques\n",
      "Price: 1630 valeurs uniques\n",
      "Customer ID: 4372 valeurs uniques\n",
      "Country: 38 valeurs uniques\n",
      "\n",
      "7. ANALYSE DES DATES\n",
      "------------------------------\n",
      "Date min: 2010-12-01 08:26:00\n",
      "Date max: 2011-12-09 12:50:00\n",
      "Période couverte: 373 days 04:24:00\n",
      "\n",
      "8. COHÉRENCE DES DONNÉES\n",
      "------------------------------\n",
      "Quantités négatives: 10624\n",
      "Quantités nulles: 0\n",
      "\n",
      "9. TRANSACTIONS SPÉCIALES\n",
      "------------------------------\n",
      "Description      1454\n",
      "Customer ID    135080\n",
      "dtype: int64\n",
      "\n",
      "6. VALEURS UNIQUES PAR COLONNE\n",
      "------------------------------\n",
      "Invoice: 25900 valeurs uniques\n",
      "StockCode: 4070 valeurs uniques\n",
      "Description: 4223 valeurs uniques\n",
      "Quantity: 722 valeurs uniques\n",
      "InvoiceDate: 23260 valeurs uniques\n",
      "Price: 1630 valeurs uniques\n",
      "Customer ID: 4372 valeurs uniques\n",
      "Country: 38 valeurs uniques\n",
      "\n",
      "7. ANALYSE DES DATES\n",
      "------------------------------\n",
      "Date min: 2010-12-01 08:26:00\n",
      "Date max: 2011-12-09 12:50:00\n",
      "Période couverte: 373 days 04:24:00\n",
      "\n",
      "8. COHÉRENCE DES DONNÉES\n",
      "------------------------------\n",
      "Quantités négatives: 10624\n",
      "Quantités nulles: 0\n",
      "\n",
      "9. TRANSACTIONS SPÉCIALES\n",
      "------------------------------\n",
      "Codes avec lettres (retours/ajustements): 52897\n",
      "Exemples de codes spéciaux:\n",
      "    StockCode                          Description\n",
      "0      85123A   WHITE HANGING HEART T-LIGHT HOLDER\n",
      "2      84406B       CREAM CUPID HEARTS COAT HANGER\n",
      "3      84029G  KNITTED UNION FLAG HOT WATER BOTTLE\n",
      "4      84029E       RED WOOLLY HOTTIE WHITE HEART.\n",
      "45       POST                              POSTAGE\n",
      "60     82494L          WOODEN FRAME ANTIQUE WHITE \n",
      "87     85099C       JUMBO  BAG BAROQUE BLACK WHITE\n",
      "90     84997B    RED 3 PIECE RETROSPOT CUTLERY SET\n",
      "91     84997C    BLUE 3 PIECE POLKADOT CUTLERY SET\n",
      "100    84519A      TOMATO CHARLIE+LOLA COASTER SET\n",
      "\n",
      "============================================================\n",
      "Codes avec lettres (retours/ajustements): 52897\n",
      "Exemples de codes spéciaux:\n",
      "    StockCode                          Description\n",
      "0      85123A   WHITE HANGING HEART T-LIGHT HOLDER\n",
      "2      84406B       CREAM CUPID HEARTS COAT HANGER\n",
      "3      84029G  KNITTED UNION FLAG HOT WATER BOTTLE\n",
      "4      84029E       RED WOOLLY HOTTIE WHITE HEART.\n",
      "45       POST                              POSTAGE\n",
      "60     82494L          WOODEN FRAME ANTIQUE WHITE \n",
      "87     85099C       JUMBO  BAG BAROQUE BLACK WHITE\n",
      "90     84997B    RED 3 PIECE RETROSPOT CUTLERY SET\n",
      "91     84997C    BLUE 3 PIECE POLKADOT CUTLERY SET\n",
      "100    84519A      TOMATO CHARLIE+LOLA COASTER SET\n",
      "\n",
      "============================================================\n"
     ]
    }
   ],
   "source": [
    "# Exploration de la structure du fichier Online.xlsx\n",
    "print(\"🔍 EXPLORATION DU FICHIER Online.xlsx\")\n",
    "print(\"=\" * 50)\n",
    "\n",
    "# Charger le fichier pour exploration\n",
    "df_raw = pd.read_excel('Online.xlsx')\n",
    "\n",
    "print(f\" Forme du dataset: {df_raw.shape}\")\n",
    "print(f\" Colonnes disponibles: {list(df_raw.columns)}\")\n",
    "\n",
    "print(\"\\n Aperçu des premières lignes:\")\n",
    "display(df_raw.head())\n",
    "\n",
    "print(\"\\n Informations sur les colonnes:\")\n",
    "print(df_raw.info())\n",
    "\n",
    "print(\"\\n Types de données:\")\n",
    "for col in df_raw.columns:\n",
    "    print(f\"  - {col}: {df_raw[col].dtype}\")\n",
    "\n",
    "print(\"\\n Statistiques descriptives pour les colonnes numériques:\")\n",
    "display(df_raw.describe())\n",
    "\n",
    "# Vérifier s'il y a des colonnes de date\n",
    "print(\"\\n Recherche de colonnes de date:\")\n",
    "for col in df_raw.columns:\n",
    "    sample_values = df_raw[col].dropna().head(5).values\n",
    "    print(f\"  - {col}: {sample_values}\")\n",
    "    \n",
    "    # Essayer de détecter des dates\n",
    "    if df_raw[col].dtype == 'object':\n",
    "        try:\n",
    "            pd.to_datetime(df_raw[col].iloc[0])\n",
    "            print(f\"    → Potentielle colonne de date détectée !\")\n",
    "        except:\n",
    "            pass\n",
    "\n",
    "# ANALYSE COMPLÈTE DES DONNÉES BRUTES\n",
    "print(\"ANALYSE EXPLORATOIRE COMPLÈTE DES DONNÉES\")\n",
    "print(\"=\" * 60)\n",
    "\n",
    "# 1. Structure générale des données\n",
    "print(\"1. STRUCTURE GÉNÉRALE\")\n",
    "print(\"-\" * 30)\n",
    "print(f\"Forme du dataset : {df_raw.shape}\")\n",
    "print(f\"Colonnes : {list(df_raw.columns)}\")\n",
    "print(f\"Types de données :\")\n",
    "print(df_raw.dtypes)\n",
    "\n",
    "print(\"\\n2. APERÇU DES PREMIÈRES LIGNES\")\n",
    "print(\"-\" * 30)\n",
    "print(df_raw.head(10))\n",
    "\n",
    "print(\"\\n3. INFORMATIONS GÉNÉRALES\")\n",
    "print(\"-\" * 30)\n",
    "print(df_raw.info())\n",
    "\n",
    "print(\"\\n4. STATISTIQUES DESCRIPTIVES\")\n",
    "print(\"-\" * 30)\n",
    "print(df_raw.describe())\n",
    "\n",
    "print(\"\\n5. VALEURS MANQUANTES\")\n",
    "print(\"-\" * 30)\n",
    "missing_values = df_raw.isnull().sum()\n",
    "print(missing_values[missing_values > 0])\n",
    "\n",
    "print(\"\\n6. VALEURS UNIQUES PAR COLONNE\")\n",
    "print(\"-\" * 30)\n",
    "for col in df_raw.columns:\n",
    "    n_unique = df_raw[col].nunique()\n",
    "    print(f\"{col}: {n_unique} valeurs uniques\")\n",
    "    if n_unique < 20:\n",
    "        print(f\"  Valeurs: {df_raw[col].unique()}\")\n",
    "\n",
    "print(\"\\n7. ANALYSE DES DATES\")\n",
    "print(\"-\" * 30)\n",
    "if 'InvoiceDate' in df_raw.columns:\n",
    "    print(f\"Date min: {df_raw['InvoiceDate'].min()}\")\n",
    "    print(f\"Date max: {df_raw['InvoiceDate'].max()}\")\n",
    "    print(f\"Période couverte: {df_raw['InvoiceDate'].max() - df_raw['InvoiceDate'].min()}\")\n",
    "\n",
    "print(\"\\n8. COHÉRENCE DES DONNÉES\")\n",
    "print(\"-\" * 30)\n",
    "# Vérifier les valeurs négatives ou nulles\n",
    "if 'Quantity' in df_raw.columns:\n",
    "    print(f\"Quantités négatives: {(df_raw['Quantity'] < 0).sum()}\")\n",
    "    print(f\"Quantités nulles: {(df_raw['Quantity'] == 0).sum()}\")\n",
    "\n",
    "if 'UnitPrice' in df_raw.columns:\n",
    "    print(f\"Prix négatifs: {(df_raw['UnitPrice'] < 0).sum()}\")\n",
    "    print(f\"Prix nuls: {(df_raw['UnitPrice'] == 0).sum()}\")\n",
    "\n",
    "print(\"\\n9. TRANSACTIONS SPÉCIALES\")\n",
    "print(\"-\" * 30)\n",
    "# Vérifier les codes de stock spéciaux\n",
    "if 'StockCode' in df_raw.columns:\n",
    "    special_codes = df_raw[df_raw['StockCode'].astype(str).str.contains('[A-Z]', na=False)]\n",
    "    print(f\"Codes avec lettres (retours/ajustements): {len(special_codes)}\")\n",
    "    \n",
    "    # Afficher quelques exemples\n",
    "    if len(special_codes) > 0:\n",
    "        print(\"Exemples de codes spéciaux:\")\n",
    "        print(special_codes[['StockCode', 'Description']].drop_duplicates().head(10))\n",
    "\n",
    "print(\"\\n\" + \"=\"*60)"
   ]
  },
  {
   "cell_type": "code",
   "execution_count": 52,
   "id": "51013f9a",
   "metadata": {},
   "outputs": [
    {
     "name": "stdout",
     "output_type": "stream",
     "text": [
      "TRAITEMENT DU DATASET Online.xlsx\n",
      "==================================================\n",
      " Dataset initial: 541910 lignes\n",
      " Suppression des quantités ≤ 0: 10624 lignes supprimées\n",
      " Suppression des prix ≤ 0: 1181 lignes supprimées\n",
      " Suppression des descriptions manquantes: 0 lignes supprimées\n",
      " Suppression des prix ≤ 0: 1181 lignes supprimées\n",
      " Suppression des descriptions manquantes: 0 lignes supprimées\n",
      " Clients avec ID manquant: 132220 (24.9%)\n",
      " Clients avec ID manquant: 132220 (24.9%)\n",
      "Doublons détectés: 5226\n",
      "Doublons détectés: 5226\n",
      " Doublons supprimés\n",
      "\n",
      " Dataset final: 524879 lignes, 18 colonnes\n",
      " Période: du 2010-12-01 08:26:00 au 2011-12-09 12:50:00\n",
      " Pays: 38 pays différents\n",
      " Produits uniques: 3922\n",
      " Clients uniques: 4338\n",
      " Catégories: 11\n",
      " Chiffre d'affaires total: 10,642,128.80 €\n",
      " Doublons supprimés\n",
      "\n",
      " Dataset final: 524879 lignes, 18 colonnes\n",
      " Période: du 2010-12-01 08:26:00 au 2011-12-09 12:50:00\n",
      " Pays: 38 pays différents\n",
      " Produits uniques: 3922\n",
      " Clients uniques: 4338\n",
      " Catégories: 11\n",
      " Chiffre d'affaires total: 10,642,128.80 €\n",
      "\n",
      " Dataset normalisé: 524879 lignes, 18 colonnes\n",
      " Période: du 2010-12-01 08:26:00 au 2011-12-09 12:50:00\n",
      " Pays: 38 pays différents\n",
      " Produits uniques: 3922\n",
      " Clients uniques: 4338\n",
      " Catégories: 11\n",
      " Chiffre d'affaires total: 10,642,128.80 €\n",
      "\n",
      "==================================================\n",
      " Dataset prêt pour l'analyse !\n",
      "\n",
      "Variables créées:\n",
      "- df_normal: (524879, 18)\n",
      "- Colonnes: ['invoice_id', 'product_code', 'product_description', 'quantity', 'date', 'unit_price', 'customer_id', 'country', 'total_price', 'year', 'month', 'day', 'day_of_week', 'is_weekend', 'month_name', 'day_name', 'category', 'has_customer_id']\n",
      "\n",
      " Dataset normalisé: 524879 lignes, 18 colonnes\n",
      " Période: du 2010-12-01 08:26:00 au 2011-12-09 12:50:00\n",
      " Pays: 38 pays différents\n",
      " Produits uniques: 3922\n",
      " Clients uniques: 4338\n",
      " Catégories: 11\n",
      " Chiffre d'affaires total: 10,642,128.80 €\n",
      "\n",
      "==================================================\n",
      " Dataset prêt pour l'analyse !\n",
      "\n",
      "Variables créées:\n",
      "- df_normal: (524879, 18)\n",
      "- Colonnes: ['invoice_id', 'product_code', 'product_description', 'quantity', 'date', 'unit_price', 'customer_id', 'country', 'total_price', 'year', 'month', 'day', 'day_of_week', 'is_weekend', 'month_name', 'day_name', 'category', 'has_customer_id']\n"
     ]
    }
   ],
   "source": [
    "# Fonction pour traiter le dataset Online.xlsx\n",
    "def process_online_dataset(df_raw):\n",
    "    \"\"\"\n",
    "    Traite et nettoie le dataset Online.xlsx pour l'analyse des ventes Yshop\n",
    "    \"\"\"\n",
    "    print(\"TRAITEMENT DU DATASET Online.xlsx\")\n",
    "    print(\"=\" * 50)\n",
    "    \n",
    "    # Copie du dataset original\n",
    "    df = df_raw.copy()\n",
    "    \n",
    "    # 1. Nettoyage des noms de colonnes\n",
    "    df.columns = df.columns.str.strip()  # Supprimer les espaces\n",
    "    \n",
    "    # 2. Renommage des colonnes pour plus de clarté\n",
    "    column_mapping = {\n",
    "        'Invoice': 'invoice_id',\n",
    "        'StockCode': 'product_code',\n",
    "        'Description': 'product_description',\n",
    "        'Quantity': 'quantity',\n",
    "        'InvoiceDate': 'date',\n",
    "        'Price': 'unit_price',\n",
    "        'Customer ID': 'customer_id',\n",
    "        'Country': 'country'\n",
    "    }\n",
    "    df = df.rename(columns=column_mapping)\n",
    "    \n",
    "    print(f\" Dataset initial: {df.shape[0]} lignes\")\n",
    "    \n",
    "    # 3. Nettoyage des données\n",
    "    # Supprimer les lignes avec des quantités négatives ou nulles (retours/annulations)\n",
    "    initial_count = len(df)\n",
    "    df = df[df['quantity'] > 0]\n",
    "    print(f\" Suppression des quantités ≤ 0: {initial_count - len(df)} lignes supprimées\")\n",
    "    \n",
    "    # Supprimer les lignes avec des prix négatifs ou nuls\n",
    "    initial_count = len(df)\n",
    "    df = df[df['unit_price'] > 0]\n",
    "    print(f\" Suppression des prix ≤ 0: {initial_count - len(df)} lignes supprimées\")\n",
    "    \n",
    "    # Supprimer les lignes sans description de produit\n",
    "    initial_count = len(df)\n",
    "    df = df.dropna(subset=['product_description'])\n",
    "    print(f\" Suppression des descriptions manquantes: {initial_count - len(df)} lignes supprimées\")\n",
    "    \n",
    "    # 4. Calculs dérivés\n",
    "    # Prix total par ligne\n",
    "    df['total_price'] = df['quantity'] * df['unit_price']\n",
    "    \n",
    "    # Extraction d'informations temporelles\n",
    "    df['year'] = df['date'].dt.year\n",
    "    df['month'] = df['date'].dt.month\n",
    "    df['day'] = df['date'].dt.day\n",
    "    df['day_of_week'] = df['date'].dt.dayofweek\n",
    "    df['is_weekend'] = df['day_of_week'] >= 5\n",
    "    df['month_name'] = df['date'].dt.month_name()\n",
    "    df['day_name'] = df['date'].dt.day_name()\n",
    "    \n",
    "    # 5. Catégorisation des produits (basée sur les descriptions)\n",
    "    def categorize_product(description):\n",
    "        \"\"\"Catégorise un produit basé sur sa description\"\"\"\n",
    "        if pd.isna(description):\n",
    "            return 'Autre'\n",
    "        \n",
    "        desc_lower = description.lower()\n",
    "        \n",
    "        # Catégories basées sur les mots-clés dans les descriptions\n",
    "        if any(word in desc_lower for word in ['heart', 'love', 'cupid', 'valentine']):\n",
    "            return 'Décoration Romantique'\n",
    "        elif any(word in desc_lower for word in ['christmas', 'xmas', 'santa', 'reindeer']):\n",
    "            return 'Décoration Noël'\n",
    "        elif any(word in desc_lower for word in ['candle', 'light', 'holder', 'lantern']):\n",
    "            return 'Éclairage & Bougies'\n",
    "        elif any(word in desc_lower for word in ['bag', 'tote', 'shopper']):\n",
    "            return 'Sacs & Accessoires'\n",
    "        elif any(word in desc_lower for word in ['mug', 'cup', 'glass', 'bottle']):\n",
    "            return 'Vaisselle & Boissons'\n",
    "        elif any(word in desc_lower for word in ['fabric', 'cotton', 'wool', 'knit']):\n",
    "            return 'Textiles'\n",
    "        elif any(word in desc_lower for word in ['metal', 'steel', 'iron', 'wire']):\n",
    "            return 'Articles Métalliques'\n",
    "        elif any(word in desc_lower for word in ['wooden', 'wood', 'bamboo']):\n",
    "            return 'Articles en Bois'\n",
    "        elif any(word in desc_lower for word in ['paper', 'card', 'notebook', 'diary']):\n",
    "            return 'Papeterie'\n",
    "        elif any(word in desc_lower for word in ['toy', 'game', 'play']):\n",
    "            return 'Jeux & Jouets'\n",
    "        else:\n",
    "            return 'Autre'\n",
    "    \n",
    "    df['category'] = df['product_description'].apply(categorize_product)\n",
    "    \n",
    "    # 6. Gestion des customers IDs manquants\n",
    "    missing_customers = df['customer_id'].isna().sum()\n",
    "    print(f\" Clients avec ID manquant: {missing_customers} ({missing_customers/len(df)*100:.1f}%)\")\n",
    "    \n",
    "    # Pour les analyses, nous pouvons soit supprimer ces lignes, soit les garder\n",
    "    # Ici, nous les gardons mais créons un flag\n",
    "    df['has_customer_id'] = df['customer_id'].notna()\n",
    "    \n",
    "    # 7. Détection et gestion des doublons\n",
    "    duplicates = df.duplicated().sum()\n",
    "    print(f\"Doublons détectés: {duplicates}\")\n",
    "    if duplicates > 0:\n",
    "        df = df.drop_duplicates()\n",
    "        print(f\" Doublons supprimés\")\n",
    "    \n",
    "    # 8. Statistiques finales\n",
    "    print(f\"\\n Dataset final: {df.shape[0]} lignes, {df.shape[1]} colonnes\")\n",
    "    print(f\" Période: du {df['date'].min()} au {df['date'].max()}\")\n",
    "    print(f\" Pays: {df['country'].nunique()} pays différents\")\n",
    "    print(f\" Produits uniques: {df['product_code'].nunique()}\")\n",
    "    print(f\" Clients uniques: {df['customer_id'].nunique()}\")\n",
    "    print(f\" Catégories: {df['category'].nunique()}\")\n",
    "    print(f\" Chiffre d'affaires total: {df['total_price'].sum():,.2f} €\")\n",
    "    \n",
    "    # Création de df_normal comme version finale nettoyée\n",
    "    df_normal = df.copy()\n",
    "    \n",
    "    print(f\"\\n Dataset normalisé: {df_normal.shape[0]} lignes, {df_normal.shape[1]} colonnes\")\n",
    "    print(f\" Période: du {df_normal['date'].min()} au {df_normal['date'].max()}\")\n",
    "    print(f\" Pays: {df_normal['country'].nunique()} pays différents\")\n",
    "    print(f\" Produits uniques: {df_normal['product_code'].nunique()}\")\n",
    "    print(f\" Clients uniques: {df_normal['customer_id'].nunique()}\")\n",
    "    print(f\" Catégories: {df_normal['category'].nunique()}\")\n",
    "    print(f\" Chiffre d'affaires total: {df_normal['total_price'].sum():,.2f} €\")\n",
    "    \n",
    "    return df_normal\n",
    "\n",
    "# Traitement du dataset\n",
    "df_normal = process_online_dataset(df_raw)\n",
    "\n",
    "print(\"\\n\" + \"=\"*50)\n",
    "print(\" Dataset prêt pour l'analyse !\")\n",
    "\n",
    "# Vérification finale\n",
    "print(f\"\\nVariables créées:\")\n",
    "print(f\"- df_normal: {df_normal.shape}\")\n",
    "print(f\"- Colonnes: {list(df_normal.columns)}\")"
   ]
  },
  {
   "cell_type": "code",
   "execution_count": 55,
   "id": "32a6e4e8",
   "metadata": {},
   "outputs": [
    {
     "name": "stdout",
     "output_type": "stream",
     "text": [
      "ANALYSE EXPLORATOIRE DES DONNÉES\n",
      "============================================================\n",
      "Colonnes disponibles dans df_normal:\n",
      "['invoice_id', 'product_code', 'product_description', 'quantity', 'date', 'unit_price', 'customer_id', 'country', 'total_price', 'year', 'month', 'day', 'day_of_week', 'is_weekend', 'month_name', 'day_name', 'category', 'has_customer_id']\n",
      "\n",
      "1. ANALYSE TEMPORELLE\n",
      "------------------------------\n",
      "Données quotidiennes: 18499 jours\n",
      "Période: 2010-12-01 à 2011-12-09\n",
      "Revenus quotidiens - Min: 0.38€, Max: 168469.60€, Moyenne: 575.28€\n",
      "\n",
      "2. ANALYSE GÉOGRAPHIQUE\n",
      "------------------------------\n",
      "Top 10 des pays par revenus:\n",
      "                   Revenus  Commandes  Clients\n",
      "country                                       \n",
      "United Kingdom  9001744.09      18019     3920\n",
      "Netherlands      285446.34         94        9\n",
      "EIRE             283140.52        288        3\n",
      "Germany          228678.40        457       94\n",
      "France           209643.37        392       87\n",
      "Australia        138453.81         57        9\n",
      "Spain             61558.56         90       30\n",
      "Switzerland       57067.60         54       21\n",
      "Belgium           41196.34         98       25\n",
      "Sweden            38367.83         36        8\n",
      "\n",
      "3. ANALYSE DES PRODUITS\n",
      "------------------------------\n",
      "Top 10 des produits par revenus:\n",
      "                                                 total_price  quantity\n",
      "product_code product_description                                      \n",
      "DOT          DOTCOM POSTAGE                        206248.77       706\n",
      "22423        REGENCY CAKESTAND 3 TIER              174156.54     13851\n",
      "23843        PAPER CRAFT , LITTLE BIRDIE           168469.60     80995\n",
      "85123A       WHITE HANGING HEART T-LIGHT HOLDER    104284.24     37580\n",
      "47566        PARTY BUNTING                          99445.23     18283\n",
      "85099B       JUMBO BAG RED RETROSPOT                94159.81     48371\n",
      "23166        MEDIUM CERAMIC TOP STORAGE JAR         81700.92     78033\n",
      "POST         POSTAGE                                78119.88      3151\n",
      "M            Manual                                 77750.27      6984\n",
      "23084        RABBIT NIGHT LIGHT                     66870.03     30739\n",
      "\n",
      "4. ANALYSE DES CATÉGORIES\n",
      "------------------------------\n",
      "Top 10 des pays par revenus:\n",
      "                   Revenus  Commandes  Clients\n",
      "country                                       \n",
      "United Kingdom  9001744.09      18019     3920\n",
      "Netherlands      285446.34         94        9\n",
      "EIRE             283140.52        288        3\n",
      "Germany          228678.40        457       94\n",
      "France           209643.37        392       87\n",
      "Australia        138453.81         57        9\n",
      "Spain             61558.56         90       30\n",
      "Switzerland       57067.60         54       21\n",
      "Belgium           41196.34         98       25\n",
      "Sweden            38367.83         36        8\n",
      "\n",
      "3. ANALYSE DES PRODUITS\n",
      "------------------------------\n",
      "Top 10 des produits par revenus:\n",
      "                                                 total_price  quantity\n",
      "product_code product_description                                      \n",
      "DOT          DOTCOM POSTAGE                        206248.77       706\n",
      "22423        REGENCY CAKESTAND 3 TIER              174156.54     13851\n",
      "23843        PAPER CRAFT , LITTLE BIRDIE           168469.60     80995\n",
      "85123A       WHITE HANGING HEART T-LIGHT HOLDER    104284.24     37580\n",
      "47566        PARTY BUNTING                          99445.23     18283\n",
      "85099B       JUMBO BAG RED RETROSPOT                94159.81     48371\n",
      "23166        MEDIUM CERAMIC TOP STORAGE JAR         81700.92     78033\n",
      "POST         POSTAGE                                78119.88      3151\n",
      "M            Manual                                 77750.27      6984\n",
      "23084        RABBIT NIGHT LIGHT                     66870.03     30739\n",
      "\n",
      "4. ANALYSE DES CATÉGORIES\n",
      "------------------------------\n",
      "Performance par catégorie:\n",
      "                          Revenus  Quantité  Produits\n",
      "category                                             \n",
      "Autre                  5487187.67   2654238      2236\n",
      "Sacs & Accessoires     1096502.83    599609       178\n",
      "Décoration Romantique  1048066.91    558270       344\n",
      "Éclairage & Bougies     712624.65    437870       318\n",
      "Vaisselle & Boissons    651560.69    293347       277\n",
      "Papeterie               457826.45    381011       200\n",
      "Décoration Noël         456125.44    300620       154\n",
      "Articles en Bois        359770.38    141919        86\n",
      "Articles Métalliques    300213.57    169167        93\n",
      "Jeux & Jouets            51004.15     21339        24\n",
      "Textiles                 21246.06     15031        22\n",
      "\n",
      "5. ANALYSE DES CLIENTS\n",
      "------------------------------\n",
      "Clients analysés: 4338\n",
      "Dépense moyenne par client: 2048.69€\n",
      "Commandes moyennes par client: 4.3\n",
      "Panier moyen: 417.65€\n",
      "Top 5 des clients par revenus:\n",
      "             TotalSpent  OrderCount  TotalItems  AvgOrderValue\n",
      "customer_id                                                   \n",
      "14646.0       280206.02          73      196915    3838.438630\n",
      "18102.0       259657.30          60       64124    4327.621667\n",
      "17450.0       194390.79          46       69973    4225.886739\n",
      "16446.0       168472.50           2       80997   84236.250000\n",
      "14911.0       143711.17         201       80240     714.980945\n",
      "\n",
      "6. ANALYSE DE SAISONNALITÉ\n",
      "------------------------------\n",
      "Performance par catégorie:\n",
      "                          Revenus  Quantité  Produits\n",
      "category                                             \n",
      "Autre                  5487187.67   2654238      2236\n",
      "Sacs & Accessoires     1096502.83    599609       178\n",
      "Décoration Romantique  1048066.91    558270       344\n",
      "Éclairage & Bougies     712624.65    437870       318\n",
      "Vaisselle & Boissons    651560.69    293347       277\n",
      "Papeterie               457826.45    381011       200\n",
      "Décoration Noël         456125.44    300620       154\n",
      "Articles en Bois        359770.38    141919        86\n",
      "Articles Métalliques    300213.57    169167        93\n",
      "Jeux & Jouets            51004.15     21339        24\n",
      "Textiles                 21246.06     15031        22\n",
      "\n",
      "5. ANALYSE DES CLIENTS\n",
      "------------------------------\n",
      "Clients analysés: 4338\n",
      "Dépense moyenne par client: 2048.69€\n",
      "Commandes moyennes par client: 4.3\n",
      "Panier moyen: 417.65€\n",
      "Top 5 des clients par revenus:\n",
      "             TotalSpent  OrderCount  TotalItems  AvgOrderValue\n",
      "customer_id                                                   \n",
      "14646.0       280206.02          73      196915    3838.438630\n",
      "18102.0       259657.30          60       64124    4327.621667\n",
      "17450.0       194390.79          46       69973    4225.886739\n",
      "16446.0       168472.50           2       80997   84236.250000\n",
      "14911.0       143711.17         201       80240     714.980945\n",
      "\n",
      "6. ANALYSE DE SAISONNALITÉ\n",
      "------------------------------\n",
      "Revenus par mois:\n",
      "    year month_name  total_price\n",
      "0   2010   December    821452.73\n",
      "1   2011      April    536968.49\n",
      "2   2011     August    757841.38\n",
      "3   2011   December    637808.33\n",
      "4   2011   February    522545.56\n",
      "5   2011    January    689811.61\n",
      "6   2011       July    718076.12\n",
      "7   2011       June    760547.01\n",
      "8   2011      March    716215.26\n",
      "9   2011        May    769296.61\n",
      "10  2011   November   1503866.78\n",
      "11  2011    October   1151263.73\n",
      "12  2011  September   1056435.19\n",
      "\n",
      "Revenus par jour de la semaine:\n",
      "           total_price\n",
      "day_name              \n",
      "Monday      1775782.07\n",
      "Tuesday     2175700.51\n",
      "Wednesday   1847074.38\n",
      "Thursday    2199292.57\n",
      "Friday      1837488.49\n",
      "Saturday           NaN\n",
      "Sunday       806790.78\n",
      "\n",
      "7. MÉTRIQUES BUSINESS COHÉRENTES\n",
      "------------------------------\n",
      "📊 MÉTRIQUES FINALES YSHOP\n",
      "Chiffre d'affaires total: 10,642,128.80 €\n",
      "Nombre de commandes: 19,960\n",
      "Nombre de clients: 4,338\n",
      "Articles vendus: 5,572,421\n",
      "Produits différents: 3,922\n",
      "Pays desservis: 38\n",
      "Panier moyen: 533.17 €\n",
      "Valeur moyenne client: 2453.23 €\n",
      "CA quotidien moyen: 28454.89 €\n",
      "Période d'analyse: 374 jours\n",
      "Revenus par mois:\n",
      "    year month_name  total_price\n",
      "0   2010   December    821452.73\n",
      "1   2011      April    536968.49\n",
      "2   2011     August    757841.38\n",
      "3   2011   December    637808.33\n",
      "4   2011   February    522545.56\n",
      "5   2011    January    689811.61\n",
      "6   2011       July    718076.12\n",
      "7   2011       June    760547.01\n",
      "8   2011      March    716215.26\n",
      "9   2011        May    769296.61\n",
      "10  2011   November   1503866.78\n",
      "11  2011    October   1151263.73\n",
      "12  2011  September   1056435.19\n",
      "\n",
      "Revenus par jour de la semaine:\n",
      "           total_price\n",
      "day_name              \n",
      "Monday      1775782.07\n",
      "Tuesday     2175700.51\n",
      "Wednesday   1847074.38\n",
      "Thursday    2199292.57\n",
      "Friday      1837488.49\n",
      "Saturday           NaN\n",
      "Sunday       806790.78\n",
      "\n",
      "7. MÉTRIQUES BUSINESS COHÉRENTES\n",
      "------------------------------\n",
      "📊 MÉTRIQUES FINALES YSHOP\n",
      "Chiffre d'affaires total: 10,642,128.80 €\n",
      "Nombre de commandes: 19,960\n",
      "Nombre de clients: 4,338\n",
      "Articles vendus: 5,572,421\n",
      "Produits différents: 3,922\n",
      "Pays desservis: 38\n",
      "Panier moyen: 533.17 €\n",
      "Valeur moyenne client: 2453.23 €\n",
      "CA quotidien moyen: 28454.89 €\n",
      "Période d'analyse: 374 jours\n",
      "\n",
      "Données quotidiennes sauvegardées dans 'yshop_daily_data.csv'\n",
      "\n",
      "============================================================\n",
      "\n",
      "Données quotidiennes sauvegardées dans 'yshop_daily_data.csv'\n",
      "\n",
      "============================================================\n"
     ]
    }
   ],
   "source": [
    "# ANALYSE EXPLORATOIRE DES DONNÉES (EDA)\n",
    "print(\"ANALYSE EXPLORATOIRE DES DONNÉES\")\n",
    "print(\"=\" * 60)\n",
    "\n",
    "# Vérification des colonnes disponibles\n",
    "print(\"Colonnes disponibles dans df_normal:\")\n",
    "print(list(df_normal.columns))\n",
    "\n",
    "# 1. ANALYSE TEMPORELLE\n",
    "print(\"\\n1. ANALYSE TEMPORELLE\")\n",
    "print(\"-\" * 30)\n",
    "\n",
    "# Utiliser les vrais noms de colonnes\n",
    "# date, total_price, quantity, invoice_id, customer_id\n",
    "\n",
    "# Agrégation quotidienne cohérente\n",
    "daily_data = df_normal.groupby('date').agg({\n",
    "    'total_price': 'sum',\n",
    "    'quantity': 'sum', \n",
    "    'invoice_id': 'nunique',\n",
    "    'customer_id': 'nunique'\n",
    "}).reset_index()\n",
    "\n",
    "daily_data.columns = ['Date', 'Revenue', 'Quantity', 'Orders', 'Customers']\n",
    "daily_data['Date'] = pd.to_datetime(daily_data['Date'])\n",
    "\n",
    "print(f\"Données quotidiennes: {len(daily_data)} jours\")\n",
    "print(f\"Période: {daily_data['Date'].min().date()} à {daily_data['Date'].max().date()}\")\n",
    "print(f\"Revenus quotidiens - Min: {daily_data['Revenue'].min():.2f}€, Max: {daily_data['Revenue'].max():.2f}€, Moyenne: {daily_data['Revenue'].mean():.2f}€\")\n",
    "\n",
    "# 2. ANALYSE PAR PAYS\n",
    "print(\"\\n2. ANALYSE GÉOGRAPHIQUE\")\n",
    "print(\"-\" * 30)\n",
    "\n",
    "country_analysis = df_normal.groupby('country').agg({\n",
    "    'total_price': 'sum',\n",
    "    'invoice_id': 'nunique',\n",
    "    'customer_id': 'nunique'\n",
    "}).round(2).sort_values('total_price', ascending=False)\n",
    "\n",
    "country_analysis.columns = ['Revenus', 'Commandes', 'Clients']\n",
    "print(\"Top 10 des pays par revenus:\")\n",
    "print(country_analysis.head(10))\n",
    "\n",
    "# 3. ANALYSE DES PRODUITS\n",
    "print(\"\\n3. ANALYSE DES PRODUITS\")\n",
    "print(\"-\" * 30)\n",
    "\n",
    "# Top produits par revenus\n",
    "product_analysis = df_normal.groupby(['product_code', 'product_description']).agg({\n",
    "    'total_price': 'sum',\n",
    "    'quantity': 'sum'\n",
    "}).round(2).sort_values('total_price', ascending=False)\n",
    "\n",
    "print(\"Top 10 des produits par revenus:\")\n",
    "print(product_analysis.head(10))\n",
    "\n",
    "# 4. ANALYSE DES CATÉGORIES\n",
    "print(\"\\n4. ANALYSE DES CATÉGORIES\")\n",
    "print(\"-\" * 30)\n",
    "\n",
    "category_analysis = df_normal.groupby('category').agg({\n",
    "    'total_price': 'sum',\n",
    "    'quantity': 'sum',\n",
    "    'product_code': 'nunique'\n",
    "}).round(2).sort_values('total_price', ascending=False)\n",
    "\n",
    "category_analysis.columns = ['Revenus', 'Quantité', 'Produits']\n",
    "print(\"Performance par catégorie:\")\n",
    "print(category_analysis)\n",
    "\n",
    "# 5. ANALYSE DES CLIENTS\n",
    "print(\"\\n5. ANALYSE DES CLIENTS\")\n",
    "print(\"-\" * 30)\n",
    "\n",
    "# Filtrer les clients avec ID valide\n",
    "df_customers = df_normal[df_normal['has_customer_id'] == True]\n",
    "\n",
    "customer_analysis = df_customers.groupby('customer_id').agg({\n",
    "    'total_price': 'sum',\n",
    "    'invoice_id': 'nunique',\n",
    "    'quantity': 'sum'\n",
    "}).round(2)\n",
    "\n",
    "customer_analysis.columns = ['TotalSpent', 'OrderCount', 'TotalItems']\n",
    "customer_analysis['AvgOrderValue'] = customer_analysis['TotalSpent'] / customer_analysis['OrderCount']\n",
    "\n",
    "print(f\"Clients analysés: {len(customer_analysis)}\")\n",
    "print(f\"Dépense moyenne par client: {customer_analysis['TotalSpent'].mean():.2f}€\")\n",
    "print(f\"Commandes moyennes par client: {customer_analysis['OrderCount'].mean():.1f}\")\n",
    "print(f\"Panier moyen: {customer_analysis['AvgOrderValue'].mean():.2f}€\")\n",
    "\n",
    "print(\"Top 5 des clients par revenus:\")\n",
    "print(customer_analysis.sort_values('TotalSpent', ascending=False).head(5))\n",
    "\n",
    "# 6. SAISONNALITÉ\n",
    "print(\"\\n6. ANALYSE DE SAISONNALITÉ\")\n",
    "print(\"-\" * 30)\n",
    "\n",
    "# Par mois\n",
    "monthly_data = df_normal.groupby(['year', 'month_name']).agg({\n",
    "    'total_price': 'sum'\n",
    "}).reset_index()\n",
    "\n",
    "print(\"Revenus par mois:\")\n",
    "print(monthly_data.round(2))\n",
    "\n",
    "# Par jour de la semaine\n",
    "weekday_data = df_normal.groupby('day_name').agg({\n",
    "    'total_price': 'sum'\n",
    "}).reindex(['Monday', 'Tuesday', 'Wednesday', 'Thursday', 'Friday', 'Saturday', 'Sunday'])\n",
    "\n",
    "print(\"\\nRevenus par jour de la semaine:\")\n",
    "print(weekday_data.round(2))\n",
    "\n",
    "# 7. MÉTRIQUES BUSINESS FINALES\n",
    "print(\"\\n7. MÉTRIQUES BUSINESS COHÉRENTES\")\n",
    "print(\"-\" * 30)\n",
    "\n",
    "# Recalcul des métriques finales\n",
    "final_revenue = df_normal['total_price'].sum()\n",
    "final_orders = df_normal['invoice_id'].nunique()\n",
    "final_customers = df_normal['customer_id'].nunique()\n",
    "final_items = df_normal['quantity'].sum()\n",
    "final_products = df_normal['product_code'].nunique()\n",
    "final_countries = df_normal['country'].nunique()\n",
    "\n",
    "avg_order_value = final_revenue / final_orders\n",
    "avg_customer_value = final_revenue / final_customers\n",
    "days_period = (daily_data['Date'].max() - daily_data['Date'].min()).days + 1\n",
    "daily_avg_revenue = final_revenue / days_period\n",
    "\n",
    "print(f\"📊 MÉTRIQUES FINALES YSHOP\")\n",
    "print(f\"Chiffre d'affaires total: {final_revenue:,.2f} €\")\n",
    "print(f\"Nombre de commandes: {final_orders:,}\")\n",
    "print(f\"Nombre de clients: {final_customers:,}\")\n",
    "print(f\"Articles vendus: {final_items:,}\")\n",
    "print(f\"Produits différents: {final_products:,}\")\n",
    "print(f\"Pays desservis: {final_countries}\")\n",
    "print(f\"Panier moyen: {avg_order_value:.2f} €\")\n",
    "print(f\"Valeur moyenne client: {avg_customer_value:.2f} €\")\n",
    "print(f\"CA quotidien moyen: {daily_avg_revenue:.2f} €\")\n",
    "print(f\"Période d'analyse: {days_period} jours\")\n",
    "\n",
    "# Sauvegarde des données quotidiennes pour la modélisation\n",
    "daily_data.to_csv('yshop_daily_data.csv', index=False)\n",
    "print(f\"\\nDonnées quotidiennes sauvegardées dans 'yshop_daily_data.csv'\")\n",
    "\n",
    "print(\"\\n\" + \"=\"*60)"
   ]
  },
  {
   "cell_type": "markdown",
   "id": "c6dcf092",
   "metadata": {},
   "source": [
    "## 3. Analyse Exploratoire des Données (EDA) \n",
    "\n",
    "Dans cette section, nous allons :\n",
    "- Analyser les tendances temporelles des ventes\n",
    "- Explorer la distribution des ventes par catégorie\n",
    "- Analyser le comportement d'achat par pays\n",
    "- Identifier les produits les plus vendus\n",
    "- Détecter les patterns saisonniers"
   ]
  },
  {
   "cell_type": "markdown",
   "id": "e6b5f779",
   "metadata": {},
   "source": [
    "## 4. Modélisation Prédictive \n",
    "\n",
    "Dans cette section, nous allons :\n",
    "- Préparer les données pour la modélisation\n",
    "- Créer des features temporelles et cycliques\n",
    "- Entraîner différents modèles de machine learning\n",
    "- Évaluer les performances des modèles\n",
    "- Faire des prédictions pour les ventes futures"
   ]
  },
  {
   "cell_type": "code",
   "execution_count": 60,
   "id": "c60b69a1",
   "metadata": {},
   "outputs": [
    {
     "name": "stdout",
     "output_type": "stream",
     "text": [
      "MODÉLISATION PRÉDICTIVE RÉALISTE POUR YSHOP\n",
      "============================================================\n",
      "\n",
      "1. PRÉPARATION DES DONNÉES\n",
      "----------------------------------------\n",
      "Données de modélisation: 18499 jours\n",
      "Période: 2010-12-01 à 2011-12-09\n",
      "\n",
      "2. CRÉATION DES FEATURES TEMPORELLES PURES\n",
      "----------------------------------------\n",
      "Features temporelles créées: 24 colonnes\n",
      "\n",
      "3. SÉLECTION STRICTE DES VARIABLES\n",
      "----------------------------------------\n",
      "Features sélectionnées (SANS FUITE): 19\n",
      "Features: ['Year', 'Month', 'Day', 'DayOfWeek', 'DayOfYear', 'WeekOfYear', 'sin_month', 'cos_month', 'sin_day', 'cos_day', 'sin_dayofweek', 'cos_dayofweek', 'is_weekend', 'is_monday', 'is_friday', 'is_month_start', 'is_month_end', 'is_december', 'trend']\n",
      "X shape: (18499, 19), y shape: (18499,)\n",
      "\n",
      "📊 VÉRIFICATION ANTI-SURAPPRENTISSAGE:\n",
      "Corrélations avec la target:\n",
      "is_weekend       0.035063\n",
      "DayOfWeek        0.028995\n",
      "cos_month        0.024483\n",
      "trend            0.021876\n",
      "WeekOfYear       0.021538\n",
      "Month            0.021320\n",
      "DayOfYear        0.021018\n",
      "is_december      0.018998\n",
      "sin_month        0.018364\n",
      "sin_dayofweek    0.015434\n",
      "dtype: float64\n",
      "✅ Aucune variable excessivement corrélée à la target\n",
      "\n",
      "4. DIVISION TRAIN/TEST\n",
      "----------------------------------------\n",
      "Train: 14799 jours, Test: 3700 jours\n",
      "Train période: 2010-12-01 à 2011-10-25\n",
      "Test période: 2011-10-25 à 2011-12-09\n",
      "\n",
      "5. NORMALISATION\n",
      "----------------------------------------\n",
      "Normalisation des features effectuée\n",
      "\n",
      "6. ENTRAÎNEMENT DES MODÈLES RÉALISTES\n",
      "----------------------------------------\n",
      "\n",
      "Entraînement du modèle: Ridge Regression\n",
      "  RMSE: 3194.83\n",
      "  MAE: 542.95\n",
      "  R²: -0.0040\n",
      "  ⚠️  Performance faible\n",
      "\n",
      "Entraînement du modèle: Lasso Regression\n",
      "  RMSE: 3191.33\n",
      "  MAE: 554.71\n",
      "  R²: -0.0018\n",
      "  ⚠️  Performance faible\n",
      "\n",
      "Entraînement du modèle: Random Forest\n",
      "  RMSE: 3191.33\n",
      "  MAE: 554.71\n",
      "  R²: -0.0018\n",
      "  ⚠️  Performance faible\n",
      "\n",
      "Entraînement du modèle: Random Forest\n",
      "  RMSE: 3186.39\n",
      "  MAE: 641.19\n",
      "  R²: 0.0013\n",
      "  ⚠️  Performance faible\n",
      "\n",
      "7. SÉLECTION DU MEILLEUR MODÈLE\n",
      "----------------------------------------\n",
      "Meilleur modèle: Random Forest\n",
      "Performance: R² = 0.0013\n",
      "\n",
      "8. ANALYSE DES RÉSULTATS RÉALISTES\n",
      "----------------------------------------\n",
      "Comparaison des modèles:\n",
      "                         RMSE         MAE        R²\n",
      "Ridge Regression  3194.831127  542.950657 -0.004045\n",
      "Lasso Regression  3191.328183  554.712724 -0.001845\n",
      "Random Forest     3186.389026  641.194606  0.001254\n",
      "\n",
      "📊 ANALYSE DES ERREURS (Random Forest):\n",
      "Erreur moyenne: -44.02€\n",
      "Erreur médiane: -369.30€\n",
      "Erreur std: 3186.52€\n",
      "Erreur moyenne en %: 674.4%\n",
      "Erreur Q25: -521.65€\n",
      "Erreur Q75: -147.27€\n",
      "\n",
      "============================================================\n",
      "✅ MODÉLISATION RÉALISTE TERMINÉE - SANS SURAPPRENTISSAGE\n",
      "============================================================\n",
      "  RMSE: 3186.39\n",
      "  MAE: 641.19\n",
      "  R²: 0.0013\n",
      "  ⚠️  Performance faible\n",
      "\n",
      "7. SÉLECTION DU MEILLEUR MODÈLE\n",
      "----------------------------------------\n",
      "Meilleur modèle: Random Forest\n",
      "Performance: R² = 0.0013\n",
      "\n",
      "8. ANALYSE DES RÉSULTATS RÉALISTES\n",
      "----------------------------------------\n",
      "Comparaison des modèles:\n",
      "                         RMSE         MAE        R²\n",
      "Ridge Regression  3194.831127  542.950657 -0.004045\n",
      "Lasso Regression  3191.328183  554.712724 -0.001845\n",
      "Random Forest     3186.389026  641.194606  0.001254\n",
      "\n",
      "📊 ANALYSE DES ERREURS (Random Forest):\n",
      "Erreur moyenne: -44.02€\n",
      "Erreur médiane: -369.30€\n",
      "Erreur std: 3186.52€\n",
      "Erreur moyenne en %: 674.4%\n",
      "Erreur Q25: -521.65€\n",
      "Erreur Q75: -147.27€\n",
      "\n",
      "============================================================\n",
      "✅ MODÉLISATION RÉALISTE TERMINÉE - SANS SURAPPRENTISSAGE\n",
      "============================================================\n"
     ]
    }
   ],
   "source": [
    "# MODÉLISATION PRÉDICTIVE RÉALISTE - SANS SURAPPRENTISSAGE\n",
    "print(\"MODÉLISATION PRÉDICTIVE RÉALISTE POUR YSHOP\")\n",
    "print(\"=\" * 60)\n",
    "\n",
    "# 1. PRÉPARATION DES DONNÉES POUR LA MODÉLISATION\n",
    "print(\"\\n1. PRÉPARATION DES DONNÉES\")\n",
    "print(\"-\" * 40)\n",
    "\n",
    "# Utiliser les données quotidiennes déjà créées\n",
    "modeling_data = daily_data.copy()\n",
    "modeling_data = modeling_data.sort_values('Date').reset_index(drop=True)\n",
    "\n",
    "print(f\"Données de modélisation: {len(modeling_data)} jours\")\n",
    "print(f\"Période: {modeling_data['Date'].min().date()} à {modeling_data['Date'].max().date()}\")\n",
    "\n",
    "# 2. CRÉATION DES FEATURES TEMPORELLES UNIQUEMENT\n",
    "print(\"\\n2. CRÉATION DES FEATURES TEMPORELLES PURES\")\n",
    "print(\"-\" * 40)\n",
    "\n",
    "# IMPORTANT : Ne pas utiliser de features lag ou moyennes mobiles basées sur la target !\n",
    "# Features temporelles seulement\n",
    "modeling_data['Year'] = modeling_data['Date'].dt.year\n",
    "modeling_data['Month'] = modeling_data['Date'].dt.month\n",
    "modeling_data['Day'] = modeling_data['Date'].dt.day\n",
    "modeling_data['DayOfWeek'] = modeling_data['Date'].dt.dayofweek\n",
    "modeling_data['DayOfYear'] = modeling_data['Date'].dt.dayofyear\n",
    "modeling_data['WeekOfYear'] = modeling_data['Date'].dt.isocalendar().week\n",
    "\n",
    "# Features cycliques pour capturer la saisonnalité\n",
    "modeling_data['sin_month'] = np.sin(2 * np.pi * modeling_data['Month'] / 12)\n",
    "modeling_data['cos_month'] = np.cos(2 * np.pi * modeling_data['Month'] / 12)\n",
    "modeling_data['sin_day'] = np.sin(2 * np.pi * modeling_data['Day'] / 31)\n",
    "modeling_data['cos_day'] = np.cos(2 * np.pi * modeling_data['Day'] / 31)\n",
    "modeling_data['sin_dayofweek'] = np.sin(2 * np.pi * modeling_data['DayOfWeek'] / 7)\n",
    "modeling_data['cos_dayofweek'] = np.cos(2 * np.pi * modeling_data['DayOfWeek'] / 7)\n",
    "\n",
    "# Features booléennes\n",
    "modeling_data['is_weekend'] = (modeling_data['DayOfWeek'] >= 5).astype(int)\n",
    "modeling_data['is_monday'] = (modeling_data['DayOfWeek'] == 0).astype(int)\n",
    "modeling_data['is_friday'] = (modeling_data['DayOfWeek'] == 4).astype(int)\n",
    "modeling_data['is_month_start'] = (modeling_data['Day'] <= 7).astype(int)\n",
    "modeling_data['is_month_end'] = (modeling_data['Day'] >= 24).astype(int)\n",
    "modeling_data['is_december'] = (modeling_data['Month'] == 12).astype(int)\n",
    "\n",
    "# Tendance temporelle simple\n",
    "modeling_data['trend'] = range(len(modeling_data))\n",
    "\n",
    "print(f\"Features temporelles créées: {modeling_data.shape[1]} colonnes\")\n",
    "\n",
    "# 3. SÉLECTION STRICTE DES FEATURES (AUCUNE FUITE DE DONNÉES)\n",
    "print(\"\\n3. SÉLECTION STRICTE DES VARIABLES\")\n",
    "print(\"-\" * 40)\n",
    "\n",
    "# Features exclues : TOUTES les variables liées à la target ou calculées à partir d'elle\n",
    "excluded_features = [\n",
    "    'Date', 'Revenue', 'Quantity', 'Orders', 'Customers',  # Variables target et dérivées\n",
    "    # PAS de lag, PAS de moyennes mobiles, PAS d'écart-types basés sur Revenue\n",
    "]\n",
    "\n",
    "# Features pour la modélisation : SEULEMENT les features temporelles pures\n",
    "feature_columns = [\n",
    "    'Year', 'Month', 'Day', 'DayOfWeek', 'DayOfYear', 'WeekOfYear',\n",
    "    'sin_month', 'cos_month', 'sin_day', 'cos_day', 'sin_dayofweek', 'cos_dayofweek',\n",
    "    'is_weekend', 'is_monday', 'is_friday', 'is_month_start', 'is_month_end', 'is_december',\n",
    "    'trend'\n",
    "]\n",
    "\n",
    "print(f\"Features sélectionnées (SANS FUITE): {len(feature_columns)}\")\n",
    "print(\"Features:\", feature_columns)\n",
    "\n",
    "# Target variable\n",
    "target = modeling_data['Revenue']\n",
    "\n",
    "# Données complètes (pas de NaN avec ces features)\n",
    "X = modeling_data[feature_columns]\n",
    "y = target\n",
    "\n",
    "print(f\"X shape: {X.shape}, y shape: {y.shape}\")\n",
    "\n",
    "# Vérification de non-corrélation avec la target\n",
    "print(\"\\n📊 VÉRIFICATION ANTI-SURAPPRENTISSAGE:\")\n",
    "correlations = X.corrwith(y).abs().sort_values(ascending=False)\n",
    "print(\"Corrélations avec la target:\")\n",
    "print(correlations.head(10))\n",
    "\n",
    "high_corr = correlations[correlations > 0.9]\n",
    "if len(high_corr) > 0:\n",
    "    print(f\"⚠️  ATTENTION: Variables très corrélées à la target: {list(high_corr.index)}\")\n",
    "else:\n",
    "    print(\"✅ Aucune variable excessivement corrélée à la target\")\n",
    "\n",
    "# 4. DIVISION TRAIN/TEST TEMPORELLE\n",
    "print(\"\\n4. DIVISION TRAIN/TEST\")\n",
    "print(\"-\" * 40)\n",
    "\n",
    "# Division temporelle stricte : 80% pour l'entraînement, 20% pour le test\n",
    "split_idx = int(len(modeling_data) * 0.8)\n",
    "\n",
    "X_train = X.iloc[:split_idx]\n",
    "X_test = X.iloc[split_idx:]\n",
    "y_train = y.iloc[:split_idx]\n",
    "y_test = y.iloc[split_idx:]\n",
    "\n",
    "print(f\"Train: {len(X_train)} jours, Test: {len(X_test)} jours\")\n",
    "print(f\"Train période: {modeling_data['Date'].iloc[0].date()} à {modeling_data['Date'].iloc[split_idx-1].date()}\")\n",
    "print(f\"Test période: {modeling_data['Date'].iloc[split_idx].date()} à {modeling_data['Date'].iloc[-1].date()}\")\n",
    "\n",
    "# 5. NORMALISATION DES DONNÉES\n",
    "print(\"\\n5. NORMALISATION\")\n",
    "print(\"-\" * 40)\n",
    "\n",
    "scaler = StandardScaler()\n",
    "X_train_scaled = scaler.fit_transform(X_train)\n",
    "X_test_scaled = scaler.transform(X_test)\n",
    "\n",
    "print(\"Normalisation des features effectuée\")\n",
    "\n",
    "# 6. ENTRAÎNEMENT DES MODÈLES AVEC RÉGULARISATION\n",
    "print(\"\\n6. ENTRAÎNEMENT DES MODÈLES RÉALISTES\")\n",
    "print(\"-\" * 40)\n",
    "\n",
    "# Modèles avec régularisation pour éviter le surapprentissage\n",
    "from sklearn.linear_model import Ridge, Lasso\n",
    "from sklearn.ensemble import RandomForestRegressor\n",
    "\n",
    "models = {\n",
    "    'Ridge Regression': Ridge(alpha=1.0, random_state=42),\n",
    "    'Lasso Regression': Lasso(alpha=0.1, random_state=42),\n",
    "    'Random Forest': RandomForestRegressor(n_estimators=50, max_depth=5, random_state=42)\n",
    "}\n",
    "\n",
    "results = {}\n",
    "\n",
    "for name, model in models.items():\n",
    "    print(f\"\\nEntraînement du modèle: {name}\")\n",
    "    \n",
    "    if 'Regression' in name:\n",
    "        # Utiliser les données normalisées pour les régressions\n",
    "        model.fit(X_train_scaled, y_train)\n",
    "        y_pred = model.predict(X_test_scaled)\n",
    "    else:\n",
    "        # Utiliser les données brutes pour Random Forest\n",
    "        model.fit(X_train, y_train)\n",
    "        y_pred = model.predict(X_test)\n",
    "    \n",
    "    # Calcul des métriques\n",
    "    mse = mean_squared_error(y_test, y_pred)\n",
    "    rmse = np.sqrt(mse)\n",
    "    mae = mean_absolute_error(y_test, y_pred)\n",
    "    r2 = r2_score(y_test, y_pred)\n",
    "    \n",
    "    results[name] = {\n",
    "        'MSE': mse,\n",
    "        'RMSE': rmse,\n",
    "        'MAE': mae,\n",
    "        'R²': r2,\n",
    "        'Model': model,\n",
    "        'Predictions': y_pred\n",
    "    }\n",
    "    \n",
    "    print(f\"  RMSE: {rmse:.2f}\")\n",
    "    print(f\"  MAE: {mae:.2f}\")\n",
    "    print(f\"  R²: {r2:.4f}\")\n",
    "    \n",
    "    # Diagnostic anti-surapprentissage\n",
    "    if r2 > 0.99:\n",
    "        print(f\"  ⚠️  SURAPPRENTISSAGE POSSIBLE (R² = {r2:.4f})\")\n",
    "    elif r2 > 0.8:\n",
    "        print(f\"  ✅ Performance élevée mais réaliste\")\n",
    "    elif r2 > 0.3:\n",
    "        print(f\"  ✅ Performance acceptable\")\n",
    "    else:\n",
    "        print(f\"  ⚠️  Performance faible\")\n",
    "\n",
    "# 7. SÉLECTION DU MEILLEUR MODÈLE\n",
    "print(\"\\n7. SÉLECTION DU MEILLEUR MODÈLE\")\n",
    "print(\"-\" * 40)\n",
    "\n",
    "# Sélectionner le modèle avec le meilleur R² qui n'est pas en surapprentissage\n",
    "valid_models = {k: v for k, v in results.items() if v['R²'] < 0.99}\n",
    "if valid_models:\n",
    "    best_model_name = max(valid_models.keys(), key=lambda x: valid_models[x]['R²'])\n",
    "else:\n",
    "    best_model_name = min(results.keys(), key=lambda x: abs(results[x]['R²'] - 0.7))\n",
    "\n",
    "best_model = results[best_model_name]['Model']\n",
    "best_predictions = results[best_model_name]['Predictions']\n",
    "\n",
    "print(f\"Meilleur modèle: {best_model_name}\")\n",
    "print(f\"Performance: R² = {results[best_model_name]['R²']:.4f}\")\n",
    "\n",
    "# 8. ANALYSE DES RÉSULTATS RÉALISTES\n",
    "print(\"\\n8. ANALYSE DES RÉSULTATS RÉALISTES\")\n",
    "print(\"-\" * 40)\n",
    "\n",
    "# Comparaison des modèles\n",
    "comparison_df = pd.DataFrame(results).T\n",
    "print(\"Comparaison des modèles:\")\n",
    "print(comparison_df[['RMSE', 'MAE', 'R²']].round(4))\n",
    "\n",
    "# Statistiques sur les erreurs\n",
    "residuals = y_test - best_predictions\n",
    "print(f\"\\n📊 ANALYSE DES ERREURS ({best_model_name}):\")\n",
    "print(f\"Erreur moyenne: {residuals.mean():.2f}€\")\n",
    "print(f\"Erreur médiane: {residuals.median():.2f}€\")\n",
    "print(f\"Erreur std: {residuals.std():.2f}€\")\n",
    "\n",
    "# Pourcentage d'erreur par rapport aux valeurs réelles\n",
    "pct_error = (np.abs(residuals) / y_test * 100)\n",
    "print(f\"Erreur moyenne en %: {pct_error.mean():.1f}%\")\n",
    "\n",
    "# Analyse de distribution des erreurs\n",
    "print(f\"Erreur Q25: {np.percentile(residuals, 25):.2f}€\")\n",
    "print(f\"Erreur Q75: {np.percentile(residuals, 75):.2f}€\")\n",
    "\n",
    "print(\"\\n\" + \"=\"*60)\n",
    "print(\"✅ MODÉLISATION RÉALISTE TERMINÉE - SANS SURAPPRENTISSAGE\")\n",
    "print(\"=\"*60)"
   ]
  },
  {
   "cell_type": "code",
   "execution_count": null,
   "id": "759f887a",
   "metadata": {},
   "outputs": [
    {
     "name": "stdout",
     "output_type": "stream",
     "text": [
      "PRÉDICTIONS FUTURES - 30 PROCHAINS JOURS\n",
      "============================================================\n",
      "\n",
      "1. PRÉPARATION DES DONNÉES FUTURES\n",
      "----------------------------------------\n",
      "Dernière date des données: 2011-12-09\n",
      "Prédictions pour: 2011-12-10 à 2012-01-08\n",
      "\n",
      "2. CRÉATION DES FEATURES FUTURES\n",
      "----------------------------------------\n",
      "\n",
      "3. APPROXIMATION DES FEATURES HISTORIQUES\n",
      "----------------------------------------\n",
      "Revenus récents - Moyenne: 874.84€, Std: 1687.14€\n",
      "Features futures créées: (30, 28)\n",
      "\n",
      "4. VÉRIFICATION DES FEATURES\n",
      "----------------------------------------\n",
      "Features manquantes: {'is_friday', 'is_december', 'is_monday'}\n",
      "Features pour prédiction: (30, 19)\n",
      "\n",
      "5. GÉNÉRATION DES PRÉDICTIONS\n",
      "----------------------------------------\n",
      "Prédictions générées pour 30 jours\n",
      "\n",
      "6. ANALYSE DES PRÉDICTIONS\n",
      "----------------------------------------\n",
      "📊 STATISTIQUES DES PRÉDICTIONS:\n",
      "Revenue moyenne prédite: 739.44€/jour\n",
      "Revenue médiane prédite: 712.46€/jour\n",
      "Revenue min prédite: 491.12€/jour\n",
      "Revenue max prédite: 1,475.72€/jour\n",
      "Revenue totale prédite (30j): 22,183.28€\n",
      "\n",
      "📈 COMPARAISON AVEC L'HISTORIQUE:\n",
      "Revenue historique moyenne: 575.49€/jour\n",
      "Écart-type historique: 1,854.70€/jour\n",
      "Différence vs historique: +28.5%\n",
      "\n",
      "7. VISUALISATION DES PRÉDICTIONS\n",
      "----------------------------------------\n"
     ]
    },
    {
     "data": {
      "application/vnd.plotly.v1+json": {
       "config": {
        "plotlyServerURL": "https://plot.ly"
       },
       "data": [
        {
         "line": {
          "color": "blue",
          "width": 2
         },
         "marker": {
          "size": 4
         },
         "mode": "lines+markers",
         "name": "Données Historiques",
         "type": "scatter",
         "x": [
          "2011-12-09T09:45:00.000000000",
          "2011-12-09T09:46:00.000000000",
          "2011-12-09T10:02:00.000000000",
          "2011-12-09T10:03:00.000000000",
          "2011-12-09T10:10:00.000000000",
          "2011-12-09T10:13:00.000000000",
          "2011-12-09T10:20:00.000000000",
          "2011-12-09T10:23:00.000000000",
          "2011-12-09T10:26:00.000000000",
          "2011-12-09T10:45:00.000000000",
          "2011-12-09T10:46:00.000000000",
          "2011-12-09T10:51:00.000000000",
          "2011-12-09T11:20:00.000000000",
          "2011-12-09T11:26:00.000000000",
          "2011-12-09T11:34:00.000000000",
          "2011-12-09T11:50:00.000000000",
          "2011-12-09T11:56:00.000000000",
          "2011-12-09T11:59:00.000000000",
          "2011-12-09T12:00:00.000000000",
          "2011-12-09T12:08:00.000000000",
          "2011-12-09T12:09:00.000000000",
          "2011-12-09T12:16:00.000000000",
          "2011-12-09T12:19:00.000000000",
          "2011-12-09T12:20:00.000000000",
          "2011-12-09T12:21:00.000000000",
          "2011-12-09T12:23:00.000000000",
          "2011-12-09T12:25:00.000000000",
          "2011-12-09T12:31:00.000000000",
          "2011-12-09T12:49:00.000000000",
          "2011-12-09T12:50:00.000000000"
         ],
         "y": {
          "bdata": "mpmZmZn5eUA0MzMzM3NlQMzMzMzMzDNAFK5H4ToJvkAVrkfhehRqQArXo3A9MnVAFa5H4XornEBnZmZmZiKpQHA9CtfjILZAMzMzMzPTWUAAAAAAAFB+QDMzMzMzq2BAXI/C9Sj0Z0Bcj8L1KOB3QMP1KFyPWmdA1qNwPQpXfUCQwvUoXFN4QGdmZmZmHmxAmpmZmZnpfkBxPQrXo1BvQOF6FK5HUXFAZmZmZmaEikApXI/C9TyMQOF6FK5HKWJA4XoUrkfhPUBnZmZmZiZfQBWuR+F6lGFAzczMzMyQdEAzMzMzMzN1QDMzMzMzt3BA",
          "dtype": "f8"
         }
        },
        {
         "line": {
          "color": "red",
          "dash": "dash",
          "width": 2
         },
         "marker": {
          "size": 4
         },
         "mode": "lines+markers",
         "name": "Prédictions Futures",
         "type": "scatter",
         "x": [
          "2011-12-10T12:50:00.000000000",
          "2011-12-11T12:50:00.000000000",
          "2011-12-12T12:50:00.000000000",
          "2011-12-13T12:50:00.000000000",
          "2011-12-14T12:50:00.000000000",
          "2011-12-15T12:50:00.000000000",
          "2011-12-16T12:50:00.000000000",
          "2011-12-17T12:50:00.000000000",
          "2011-12-18T12:50:00.000000000",
          "2011-12-19T12:50:00.000000000",
          "2011-12-20T12:50:00.000000000",
          "2011-12-21T12:50:00.000000000",
          "2011-12-22T12:50:00.000000000",
          "2011-12-23T12:50:00.000000000",
          "2011-12-24T12:50:00.000000000",
          "2011-12-25T12:50:00.000000000",
          "2011-12-26T12:50:00.000000000",
          "2011-12-27T12:50:00.000000000",
          "2011-12-28T12:50:00.000000000",
          "2011-12-29T12:50:00.000000000",
          "2011-12-30T12:50:00.000000000",
          "2011-12-31T12:50:00.000000000",
          "2012-01-01T12:50:00.000000000",
          "2012-01-02T12:50:00.000000000",
          "2012-01-03T12:50:00.000000000",
          "2012-01-04T12:50:00.000000000",
          "2012-01-05T12:50:00.000000000",
          "2012-01-06T12:50:00.000000000",
          "2012-01-07T12:50:00.000000000",
          "2012-01-08T12:50:00.000000000"
         ],
         "y": {
          "bdata": "5qQAbR8GgkCvr6yDuzyAQG7AujhKSIhAfcVMjEeAhUBmpVCMFU6EQNgG78eHt4RAzLSDWXvGhUAIp6cCBy6DQFIMnNg9YYBAcx+O+PV5iUC9NHmB16eIQHjtVyYKSYhA3E/PIxgLhUDP/WO1CxqGQOq5uJKkroFArGHQu+6xfkCxnN3/ddSHQJ9sXVIbGoVA3TtK+iXChEC46QmliTKFQIPQXu9KbYZA7lwI5eAOl0DIk6KA3d+HQFbl1vwkwI1A6nd/so78jEAzA9wJeDmKQDYUuRxOTopAPaqT/aK/ikB/j/wYP/yHQDMoJ45e7YZA",
          "dtype": "f8"
         }
        }
       ],
       "layout": {
        "height": 600,
        "showlegend": true,
        "template": {
         "data": {
          "bar": [
           {
            "error_x": {
             "color": "#2a3f5f"
            },
            "error_y": {
             "color": "#2a3f5f"
            },
            "marker": {
             "line": {
              "color": "white",
              "width": 0.5
             },
             "pattern": {
              "fillmode": "overlay",
              "size": 10,
              "solidity": 0.2
             }
            },
            "type": "bar"
           }
          ],
          "barpolar": [
           {
            "marker": {
             "line": {
              "color": "white",
              "width": 0.5
             },
             "pattern": {
              "fillmode": "overlay",
              "size": 10,
              "solidity": 0.2
             }
            },
            "type": "barpolar"
           }
          ],
          "carpet": [
           {
            "aaxis": {
             "endlinecolor": "#2a3f5f",
             "gridcolor": "#C8D4E3",
             "linecolor": "#C8D4E3",
             "minorgridcolor": "#C8D4E3",
             "startlinecolor": "#2a3f5f"
            },
            "baxis": {
             "endlinecolor": "#2a3f5f",
             "gridcolor": "#C8D4E3",
             "linecolor": "#C8D4E3",
             "minorgridcolor": "#C8D4E3",
             "startlinecolor": "#2a3f5f"
            },
            "type": "carpet"
           }
          ],
          "choropleth": [
           {
            "colorbar": {
             "outlinewidth": 0,
             "ticks": ""
            },
            "type": "choropleth"
           }
          ],
          "contour": [
           {
            "colorbar": {
             "outlinewidth": 0,
             "ticks": ""
            },
            "colorscale": [
             [
              0,
              "#0d0887"
             ],
             [
              0.1111111111111111,
              "#46039f"
             ],
             [
              0.2222222222222222,
              "#7201a8"
             ],
             [
              0.3333333333333333,
              "#9c179e"
             ],
             [
              0.4444444444444444,
              "#bd3786"
             ],
             [
              0.5555555555555556,
              "#d8576b"
             ],
             [
              0.6666666666666666,
              "#ed7953"
             ],
             [
              0.7777777777777778,
              "#fb9f3a"
             ],
             [
              0.8888888888888888,
              "#fdca26"
             ],
             [
              1,
              "#f0f921"
             ]
            ],
            "type": "contour"
           }
          ],
          "contourcarpet": [
           {
            "colorbar": {
             "outlinewidth": 0,
             "ticks": ""
            },
            "type": "contourcarpet"
           }
          ],
          "heatmap": [
           {
            "colorbar": {
             "outlinewidth": 0,
             "ticks": ""
            },
            "colorscale": [
             [
              0,
              "#0d0887"
             ],
             [
              0.1111111111111111,
              "#46039f"
             ],
             [
              0.2222222222222222,
              "#7201a8"
             ],
             [
              0.3333333333333333,
              "#9c179e"
             ],
             [
              0.4444444444444444,
              "#bd3786"
             ],
             [
              0.5555555555555556,
              "#d8576b"
             ],
             [
              0.6666666666666666,
              "#ed7953"
             ],
             [
              0.7777777777777778,
              "#fb9f3a"
             ],
             [
              0.8888888888888888,
              "#fdca26"
             ],
             [
              1,
              "#f0f921"
             ]
            ],
            "type": "heatmap"
           }
          ],
          "histogram": [
           {
            "marker": {
             "pattern": {
              "fillmode": "overlay",
              "size": 10,
              "solidity": 0.2
             }
            },
            "type": "histogram"
           }
          ],
          "histogram2d": [
           {
            "colorbar": {
             "outlinewidth": 0,
             "ticks": ""
            },
            "colorscale": [
             [
              0,
              "#0d0887"
             ],
             [
              0.1111111111111111,
              "#46039f"
             ],
             [
              0.2222222222222222,
              "#7201a8"
             ],
             [
              0.3333333333333333,
              "#9c179e"
             ],
             [
              0.4444444444444444,
              "#bd3786"
             ],
             [
              0.5555555555555556,
              "#d8576b"
             ],
             [
              0.6666666666666666,
              "#ed7953"
             ],
             [
              0.7777777777777778,
              "#fb9f3a"
             ],
             [
              0.8888888888888888,
              "#fdca26"
             ],
             [
              1,
              "#f0f921"
             ]
            ],
            "type": "histogram2d"
           }
          ],
          "histogram2dcontour": [
           {
            "colorbar": {
             "outlinewidth": 0,
             "ticks": ""
            },
            "colorscale": [
             [
              0,
              "#0d0887"
             ],
             [
              0.1111111111111111,
              "#46039f"
             ],
             [
              0.2222222222222222,
              "#7201a8"
             ],
             [
              0.3333333333333333,
              "#9c179e"
             ],
             [
              0.4444444444444444,
              "#bd3786"
             ],
             [
              0.5555555555555556,
              "#d8576b"
             ],
             [
              0.6666666666666666,
              "#ed7953"
             ],
             [
              0.7777777777777778,
              "#fb9f3a"
             ],
             [
              0.8888888888888888,
              "#fdca26"
             ],
             [
              1,
              "#f0f921"
             ]
            ],
            "type": "histogram2dcontour"
           }
          ],
          "mesh3d": [
           {
            "colorbar": {
             "outlinewidth": 0,
             "ticks": ""
            },
            "type": "mesh3d"
           }
          ],
          "parcoords": [
           {
            "line": {
             "colorbar": {
              "outlinewidth": 0,
              "ticks": ""
             }
            },
            "type": "parcoords"
           }
          ],
          "pie": [
           {
            "automargin": true,
            "type": "pie"
           }
          ],
          "scatter": [
           {
            "fillpattern": {
             "fillmode": "overlay",
             "size": 10,
             "solidity": 0.2
            },
            "type": "scatter"
           }
          ],
          "scatter3d": [
           {
            "line": {
             "colorbar": {
              "outlinewidth": 0,
              "ticks": ""
             }
            },
            "marker": {
             "colorbar": {
              "outlinewidth": 0,
              "ticks": ""
             }
            },
            "type": "scatter3d"
           }
          ],
          "scattercarpet": [
           {
            "marker": {
             "colorbar": {
              "outlinewidth": 0,
              "ticks": ""
             }
            },
            "type": "scattercarpet"
           }
          ],
          "scattergeo": [
           {
            "marker": {
             "colorbar": {
              "outlinewidth": 0,
              "ticks": ""
             }
            },
            "type": "scattergeo"
           }
          ],
          "scattergl": [
           {
            "marker": {
             "colorbar": {
              "outlinewidth": 0,
              "ticks": ""
             }
            },
            "type": "scattergl"
           }
          ],
          "scattermap": [
           {
            "marker": {
             "colorbar": {
              "outlinewidth": 0,
              "ticks": ""
             }
            },
            "type": "scattermap"
           }
          ],
          "scattermapbox": [
           {
            "marker": {
             "colorbar": {
              "outlinewidth": 0,
              "ticks": ""
             }
            },
            "type": "scattermapbox"
           }
          ],
          "scatterpolar": [
           {
            "marker": {
             "colorbar": {
              "outlinewidth": 0,
              "ticks": ""
             }
            },
            "type": "scatterpolar"
           }
          ],
          "scatterpolargl": [
           {
            "marker": {
             "colorbar": {
              "outlinewidth": 0,
              "ticks": ""
             }
            },
            "type": "scatterpolargl"
           }
          ],
          "scatterternary": [
           {
            "marker": {
             "colorbar": {
              "outlinewidth": 0,
              "ticks": ""
             }
            },
            "type": "scatterternary"
           }
          ],
          "surface": [
           {
            "colorbar": {
             "outlinewidth": 0,
             "ticks": ""
            },
            "colorscale": [
             [
              0,
              "#0d0887"
             ],
             [
              0.1111111111111111,
              "#46039f"
             ],
             [
              0.2222222222222222,
              "#7201a8"
             ],
             [
              0.3333333333333333,
              "#9c179e"
             ],
             [
              0.4444444444444444,
              "#bd3786"
             ],
             [
              0.5555555555555556,
              "#d8576b"
             ],
             [
              0.6666666666666666,
              "#ed7953"
             ],
             [
              0.7777777777777778,
              "#fb9f3a"
             ],
             [
              0.8888888888888888,
              "#fdca26"
             ],
             [
              1,
              "#f0f921"
             ]
            ],
            "type": "surface"
           }
          ],
          "table": [
           {
            "cells": {
             "fill": {
              "color": "#EBF0F8"
             },
             "line": {
              "color": "white"
             }
            },
            "header": {
             "fill": {
              "color": "#C8D4E3"
             },
             "line": {
              "color": "white"
             }
            },
            "type": "table"
           }
          ]
         },
         "layout": {
          "annotationdefaults": {
           "arrowcolor": "#2a3f5f",
           "arrowhead": 0,
           "arrowwidth": 1
          },
          "autotypenumbers": "strict",
          "coloraxis": {
           "colorbar": {
            "outlinewidth": 0,
            "ticks": ""
           }
          },
          "colorscale": {
           "diverging": [
            [
             0,
             "#8e0152"
            ],
            [
             0.1,
             "#c51b7d"
            ],
            [
             0.2,
             "#de77ae"
            ],
            [
             0.3,
             "#f1b6da"
            ],
            [
             0.4,
             "#fde0ef"
            ],
            [
             0.5,
             "#f7f7f7"
            ],
            [
             0.6,
             "#e6f5d0"
            ],
            [
             0.7,
             "#b8e186"
            ],
            [
             0.8,
             "#7fbc41"
            ],
            [
             0.9,
             "#4d9221"
            ],
            [
             1,
             "#276419"
            ]
           ],
           "sequential": [
            [
             0,
             "#0d0887"
            ],
            [
             0.1111111111111111,
             "#46039f"
            ],
            [
             0.2222222222222222,
             "#7201a8"
            ],
            [
             0.3333333333333333,
             "#9c179e"
            ],
            [
             0.4444444444444444,
             "#bd3786"
            ],
            [
             0.5555555555555556,
             "#d8576b"
            ],
            [
             0.6666666666666666,
             "#ed7953"
            ],
            [
             0.7777777777777778,
             "#fb9f3a"
            ],
            [
             0.8888888888888888,
             "#fdca26"
            ],
            [
             1,
             "#f0f921"
            ]
           ],
           "sequentialminus": [
            [
             0,
             "#0d0887"
            ],
            [
             0.1111111111111111,
             "#46039f"
            ],
            [
             0.2222222222222222,
             "#7201a8"
            ],
            [
             0.3333333333333333,
             "#9c179e"
            ],
            [
             0.4444444444444444,
             "#bd3786"
            ],
            [
             0.5555555555555556,
             "#d8576b"
            ],
            [
             0.6666666666666666,
             "#ed7953"
            ],
            [
             0.7777777777777778,
             "#fb9f3a"
            ],
            [
             0.8888888888888888,
             "#fdca26"
            ],
            [
             1,
             "#f0f921"
            ]
           ]
          },
          "colorway": [
           "#636efa",
           "#EF553B",
           "#00cc96",
           "#ab63fa",
           "#FFA15A",
           "#19d3f3",
           "#FF6692",
           "#B6E880",
           "#FF97FF",
           "#FECB52"
          ],
          "font": {
           "color": "#2a3f5f"
          },
          "geo": {
           "bgcolor": "white",
           "lakecolor": "white",
           "landcolor": "white",
           "showlakes": true,
           "showland": true,
           "subunitcolor": "#C8D4E3"
          },
          "hoverlabel": {
           "align": "left"
          },
          "hovermode": "closest",
          "mapbox": {
           "style": "light"
          },
          "paper_bgcolor": "white",
          "plot_bgcolor": "white",
          "polar": {
           "angularaxis": {
            "gridcolor": "#EBF0F8",
            "linecolor": "#EBF0F8",
            "ticks": ""
           },
           "bgcolor": "white",
           "radialaxis": {
            "gridcolor": "#EBF0F8",
            "linecolor": "#EBF0F8",
            "ticks": ""
           }
          },
          "scene": {
           "xaxis": {
            "backgroundcolor": "white",
            "gridcolor": "#DFE8F3",
            "gridwidth": 2,
            "linecolor": "#EBF0F8",
            "showbackground": true,
            "ticks": "",
            "zerolinecolor": "#EBF0F8"
           },
           "yaxis": {
            "backgroundcolor": "white",
            "gridcolor": "#DFE8F3",
            "gridwidth": 2,
            "linecolor": "#EBF0F8",
            "showbackground": true,
            "ticks": "",
            "zerolinecolor": "#EBF0F8"
           },
           "zaxis": {
            "backgroundcolor": "white",
            "gridcolor": "#DFE8F3",
            "gridwidth": 2,
            "linecolor": "#EBF0F8",
            "showbackground": true,
            "ticks": "",
            "zerolinecolor": "#EBF0F8"
           }
          },
          "shapedefaults": {
           "line": {
            "color": "#2a3f5f"
           }
          },
          "ternary": {
           "aaxis": {
            "gridcolor": "#DFE8F3",
            "linecolor": "#A2B1C6",
            "ticks": ""
           },
           "baxis": {
            "gridcolor": "#DFE8F3",
            "linecolor": "#A2B1C6",
            "ticks": ""
           },
           "bgcolor": "white",
           "caxis": {
            "gridcolor": "#DFE8F3",
            "linecolor": "#A2B1C6",
            "ticks": ""
           }
          },
          "title": {
           "x": 0.05
          },
          "xaxis": {
           "automargin": true,
           "gridcolor": "#EBF0F8",
           "linecolor": "#EBF0F8",
           "ticks": "",
           "title": {
            "standoff": 15
           },
           "zerolinecolor": "#EBF0F8",
           "zerolinewidth": 2
          },
          "yaxis": {
           "automargin": true,
           "gridcolor": "#EBF0F8",
           "linecolor": "#EBF0F8",
           "ticks": "",
           "title": {
            "standoff": 15
           },
           "zerolinecolor": "#EBF0F8",
           "zerolinewidth": 2
          }
         }
        },
        "title": {
         "text": "Prédictions de Revenus Yshop - Modèle: Random Forest"
        },
        "xaxis": {
         "title": {
          "text": "Date"
         }
        },
        "yaxis": {
         "title": {
          "text": "Revenus Quotidiens (€)"
         }
        }
       }
      },
      "text/html": [
       "<div>            <script src=\"https://cdnjs.cloudflare.com/ajax/libs/mathjax/2.7.5/MathJax.js?config=TeX-AMS-MML_SVG\"></script><script type=\"text/javascript\">if (window.MathJax && window.MathJax.Hub && window.MathJax.Hub.Config) {window.MathJax.Hub.Config({SVG: {font: \"STIX-Web\"}});}</script>                <script type=\"text/javascript\">window.PlotlyConfig = {MathJaxConfig: 'local'};</script>\n",
       "        <script charset=\"utf-8\" src=\"https://cdn.plot.ly/plotly-3.0.1.min.js\"></script>                <div id=\"f9b508ac-43d0-4ac9-82dc-b6628ef029a1\" class=\"plotly-graph-div\" style=\"height:600px; width:100%;\"></div>            <script type=\"text/javascript\">                window.PLOTLYENV=window.PLOTLYENV || {};                                if (document.getElementById(\"f9b508ac-43d0-4ac9-82dc-b6628ef029a1\")) {                    Plotly.newPlot(                        \"f9b508ac-43d0-4ac9-82dc-b6628ef029a1\",                        [{\"line\":{\"color\":\"blue\",\"width\":2},\"marker\":{\"size\":4},\"mode\":\"lines+markers\",\"name\":\"Donn\\u00e9es Historiques\",\"x\":[\"2011-12-09T09:45:00.000000000\",\"2011-12-09T09:46:00.000000000\",\"2011-12-09T10:02:00.000000000\",\"2011-12-09T10:03:00.000000000\",\"2011-12-09T10:10:00.000000000\",\"2011-12-09T10:13:00.000000000\",\"2011-12-09T10:20:00.000000000\",\"2011-12-09T10:23:00.000000000\",\"2011-12-09T10:26:00.000000000\",\"2011-12-09T10:45:00.000000000\",\"2011-12-09T10:46:00.000000000\",\"2011-12-09T10:51:00.000000000\",\"2011-12-09T11:20:00.000000000\",\"2011-12-09T11:26:00.000000000\",\"2011-12-09T11:34:00.000000000\",\"2011-12-09T11:50:00.000000000\",\"2011-12-09T11:56:00.000000000\",\"2011-12-09T11:59:00.000000000\",\"2011-12-09T12:00:00.000000000\",\"2011-12-09T12:08:00.000000000\",\"2011-12-09T12:09:00.000000000\",\"2011-12-09T12:16:00.000000000\",\"2011-12-09T12:19:00.000000000\",\"2011-12-09T12:20:00.000000000\",\"2011-12-09T12:21:00.000000000\",\"2011-12-09T12:23:00.000000000\",\"2011-12-09T12:25:00.000000000\",\"2011-12-09T12:31:00.000000000\",\"2011-12-09T12:49:00.000000000\",\"2011-12-09T12:50:00.000000000\"],\"y\":{\"dtype\":\"f8\",\"bdata\":\"mpmZmZn5eUA0MzMzM3NlQMzMzMzMzDNAFK5H4ToJvkAVrkfhehRqQArXo3A9MnVAFa5H4XornEBnZmZmZiKpQHA9CtfjILZAMzMzMzPTWUAAAAAAAFB+QDMzMzMzq2BAXI\\u002fC9Sj0Z0Bcj8L1KOB3QMP1KFyPWmdA1qNwPQpXfUCQwvUoXFN4QGdmZmZmHmxAmpmZmZnpfkBxPQrXo1BvQOF6FK5HUXFAZmZmZmaEikApXI\\u002fC9TyMQOF6FK5HKWJA4XoUrkfhPUBnZmZmZiZfQBWuR+F6lGFAzczMzMyQdEAzMzMzMzN1QDMzMzMzt3BA\"},\"type\":\"scatter\"},{\"line\":{\"color\":\"red\",\"dash\":\"dash\",\"width\":2},\"marker\":{\"size\":4},\"mode\":\"lines+markers\",\"name\":\"Pr\\u00e9dictions Futures\",\"x\":[\"2011-12-10T12:50:00.000000000\",\"2011-12-11T12:50:00.000000000\",\"2011-12-12T12:50:00.000000000\",\"2011-12-13T12:50:00.000000000\",\"2011-12-14T12:50:00.000000000\",\"2011-12-15T12:50:00.000000000\",\"2011-12-16T12:50:00.000000000\",\"2011-12-17T12:50:00.000000000\",\"2011-12-18T12:50:00.000000000\",\"2011-12-19T12:50:00.000000000\",\"2011-12-20T12:50:00.000000000\",\"2011-12-21T12:50:00.000000000\",\"2011-12-22T12:50:00.000000000\",\"2011-12-23T12:50:00.000000000\",\"2011-12-24T12:50:00.000000000\",\"2011-12-25T12:50:00.000000000\",\"2011-12-26T12:50:00.000000000\",\"2011-12-27T12:50:00.000000000\",\"2011-12-28T12:50:00.000000000\",\"2011-12-29T12:50:00.000000000\",\"2011-12-30T12:50:00.000000000\",\"2011-12-31T12:50:00.000000000\",\"2012-01-01T12:50:00.000000000\",\"2012-01-02T12:50:00.000000000\",\"2012-01-03T12:50:00.000000000\",\"2012-01-04T12:50:00.000000000\",\"2012-01-05T12:50:00.000000000\",\"2012-01-06T12:50:00.000000000\",\"2012-01-07T12:50:00.000000000\",\"2012-01-08T12:50:00.000000000\"],\"y\":{\"dtype\":\"f8\",\"bdata\":\"5qQAbR8GgkCvr6yDuzyAQG7AujhKSIhAfcVMjEeAhUBmpVCMFU6EQNgG78eHt4RAzLSDWXvGhUAIp6cCBy6DQFIMnNg9YYBAcx+O+PV5iUC9NHmB16eIQHjtVyYKSYhA3E\\u002fPIxgLhUDP\\u002fWO1CxqGQOq5uJKkroFArGHQu+6xfkCxnN3\\u002fddSHQJ9sXVIbGoVA3TtK+iXChEC46QmliTKFQIPQXu9KbYZA7lwI5eAOl0DIk6KA3d+HQFbl1vwkwI1A6nd\\u002fso78jEAzA9wJeDmKQDYUuRxOTopAPaqT\\u002faK\\u002fikB\\u002fj\\u002fwYP\\u002fyHQDMoJ45e7YZA\"},\"type\":\"scatter\"}],                        {\"template\":{\"data\":{\"barpolar\":[{\"marker\":{\"line\":{\"color\":\"white\",\"width\":0.5},\"pattern\":{\"fillmode\":\"overlay\",\"size\":10,\"solidity\":0.2}},\"type\":\"barpolar\"}],\"bar\":[{\"error_x\":{\"color\":\"#2a3f5f\"},\"error_y\":{\"color\":\"#2a3f5f\"},\"marker\":{\"line\":{\"color\":\"white\",\"width\":0.5},\"pattern\":{\"fillmode\":\"overlay\",\"size\":10,\"solidity\":0.2}},\"type\":\"bar\"}],\"carpet\":[{\"aaxis\":{\"endlinecolor\":\"#2a3f5f\",\"gridcolor\":\"#C8D4E3\",\"linecolor\":\"#C8D4E3\",\"minorgridcolor\":\"#C8D4E3\",\"startlinecolor\":\"#2a3f5f\"},\"baxis\":{\"endlinecolor\":\"#2a3f5f\",\"gridcolor\":\"#C8D4E3\",\"linecolor\":\"#C8D4E3\",\"minorgridcolor\":\"#C8D4E3\",\"startlinecolor\":\"#2a3f5f\"},\"type\":\"carpet\"}],\"choropleth\":[{\"colorbar\":{\"outlinewidth\":0,\"ticks\":\"\"},\"type\":\"choropleth\"}],\"contourcarpet\":[{\"colorbar\":{\"outlinewidth\":0,\"ticks\":\"\"},\"type\":\"contourcarpet\"}],\"contour\":[{\"colorbar\":{\"outlinewidth\":0,\"ticks\":\"\"},\"colorscale\":[[0.0,\"#0d0887\"],[0.1111111111111111,\"#46039f\"],[0.2222222222222222,\"#7201a8\"],[0.3333333333333333,\"#9c179e\"],[0.4444444444444444,\"#bd3786\"],[0.5555555555555556,\"#d8576b\"],[0.6666666666666666,\"#ed7953\"],[0.7777777777777778,\"#fb9f3a\"],[0.8888888888888888,\"#fdca26\"],[1.0,\"#f0f921\"]],\"type\":\"contour\"}],\"heatmap\":[{\"colorbar\":{\"outlinewidth\":0,\"ticks\":\"\"},\"colorscale\":[[0.0,\"#0d0887\"],[0.1111111111111111,\"#46039f\"],[0.2222222222222222,\"#7201a8\"],[0.3333333333333333,\"#9c179e\"],[0.4444444444444444,\"#bd3786\"],[0.5555555555555556,\"#d8576b\"],[0.6666666666666666,\"#ed7953\"],[0.7777777777777778,\"#fb9f3a\"],[0.8888888888888888,\"#fdca26\"],[1.0,\"#f0f921\"]],\"type\":\"heatmap\"}],\"histogram2dcontour\":[{\"colorbar\":{\"outlinewidth\":0,\"ticks\":\"\"},\"colorscale\":[[0.0,\"#0d0887\"],[0.1111111111111111,\"#46039f\"],[0.2222222222222222,\"#7201a8\"],[0.3333333333333333,\"#9c179e\"],[0.4444444444444444,\"#bd3786\"],[0.5555555555555556,\"#d8576b\"],[0.6666666666666666,\"#ed7953\"],[0.7777777777777778,\"#fb9f3a\"],[0.8888888888888888,\"#fdca26\"],[1.0,\"#f0f921\"]],\"type\":\"histogram2dcontour\"}],\"histogram2d\":[{\"colorbar\":{\"outlinewidth\":0,\"ticks\":\"\"},\"colorscale\":[[0.0,\"#0d0887\"],[0.1111111111111111,\"#46039f\"],[0.2222222222222222,\"#7201a8\"],[0.3333333333333333,\"#9c179e\"],[0.4444444444444444,\"#bd3786\"],[0.5555555555555556,\"#d8576b\"],[0.6666666666666666,\"#ed7953\"],[0.7777777777777778,\"#fb9f3a\"],[0.8888888888888888,\"#fdca26\"],[1.0,\"#f0f921\"]],\"type\":\"histogram2d\"}],\"histogram\":[{\"marker\":{\"pattern\":{\"fillmode\":\"overlay\",\"size\":10,\"solidity\":0.2}},\"type\":\"histogram\"}],\"mesh3d\":[{\"colorbar\":{\"outlinewidth\":0,\"ticks\":\"\"},\"type\":\"mesh3d\"}],\"parcoords\":[{\"line\":{\"colorbar\":{\"outlinewidth\":0,\"ticks\":\"\"}},\"type\":\"parcoords\"}],\"pie\":[{\"automargin\":true,\"type\":\"pie\"}],\"scatter3d\":[{\"line\":{\"colorbar\":{\"outlinewidth\":0,\"ticks\":\"\"}},\"marker\":{\"colorbar\":{\"outlinewidth\":0,\"ticks\":\"\"}},\"type\":\"scatter3d\"}],\"scattercarpet\":[{\"marker\":{\"colorbar\":{\"outlinewidth\":0,\"ticks\":\"\"}},\"type\":\"scattercarpet\"}],\"scattergeo\":[{\"marker\":{\"colorbar\":{\"outlinewidth\":0,\"ticks\":\"\"}},\"type\":\"scattergeo\"}],\"scattergl\":[{\"marker\":{\"colorbar\":{\"outlinewidth\":0,\"ticks\":\"\"}},\"type\":\"scattergl\"}],\"scattermapbox\":[{\"marker\":{\"colorbar\":{\"outlinewidth\":0,\"ticks\":\"\"}},\"type\":\"scattermapbox\"}],\"scattermap\":[{\"marker\":{\"colorbar\":{\"outlinewidth\":0,\"ticks\":\"\"}},\"type\":\"scattermap\"}],\"scatterpolargl\":[{\"marker\":{\"colorbar\":{\"outlinewidth\":0,\"ticks\":\"\"}},\"type\":\"scatterpolargl\"}],\"scatterpolar\":[{\"marker\":{\"colorbar\":{\"outlinewidth\":0,\"ticks\":\"\"}},\"type\":\"scatterpolar\"}],\"scatter\":[{\"fillpattern\":{\"fillmode\":\"overlay\",\"size\":10,\"solidity\":0.2},\"type\":\"scatter\"}],\"scatterternary\":[{\"marker\":{\"colorbar\":{\"outlinewidth\":0,\"ticks\":\"\"}},\"type\":\"scatterternary\"}],\"surface\":[{\"colorbar\":{\"outlinewidth\":0,\"ticks\":\"\"},\"colorscale\":[[0.0,\"#0d0887\"],[0.1111111111111111,\"#46039f\"],[0.2222222222222222,\"#7201a8\"],[0.3333333333333333,\"#9c179e\"],[0.4444444444444444,\"#bd3786\"],[0.5555555555555556,\"#d8576b\"],[0.6666666666666666,\"#ed7953\"],[0.7777777777777778,\"#fb9f3a\"],[0.8888888888888888,\"#fdca26\"],[1.0,\"#f0f921\"]],\"type\":\"surface\"}],\"table\":[{\"cells\":{\"fill\":{\"color\":\"#EBF0F8\"},\"line\":{\"color\":\"white\"}},\"header\":{\"fill\":{\"color\":\"#C8D4E3\"},\"line\":{\"color\":\"white\"}},\"type\":\"table\"}]},\"layout\":{\"annotationdefaults\":{\"arrowcolor\":\"#2a3f5f\",\"arrowhead\":0,\"arrowwidth\":1},\"autotypenumbers\":\"strict\",\"coloraxis\":{\"colorbar\":{\"outlinewidth\":0,\"ticks\":\"\"}},\"colorscale\":{\"diverging\":[[0,\"#8e0152\"],[0.1,\"#c51b7d\"],[0.2,\"#de77ae\"],[0.3,\"#f1b6da\"],[0.4,\"#fde0ef\"],[0.5,\"#f7f7f7\"],[0.6,\"#e6f5d0\"],[0.7,\"#b8e186\"],[0.8,\"#7fbc41\"],[0.9,\"#4d9221\"],[1,\"#276419\"]],\"sequential\":[[0.0,\"#0d0887\"],[0.1111111111111111,\"#46039f\"],[0.2222222222222222,\"#7201a8\"],[0.3333333333333333,\"#9c179e\"],[0.4444444444444444,\"#bd3786\"],[0.5555555555555556,\"#d8576b\"],[0.6666666666666666,\"#ed7953\"],[0.7777777777777778,\"#fb9f3a\"],[0.8888888888888888,\"#fdca26\"],[1.0,\"#f0f921\"]],\"sequentialminus\":[[0.0,\"#0d0887\"],[0.1111111111111111,\"#46039f\"],[0.2222222222222222,\"#7201a8\"],[0.3333333333333333,\"#9c179e\"],[0.4444444444444444,\"#bd3786\"],[0.5555555555555556,\"#d8576b\"],[0.6666666666666666,\"#ed7953\"],[0.7777777777777778,\"#fb9f3a\"],[0.8888888888888888,\"#fdca26\"],[1.0,\"#f0f921\"]]},\"colorway\":[\"#636efa\",\"#EF553B\",\"#00cc96\",\"#ab63fa\",\"#FFA15A\",\"#19d3f3\",\"#FF6692\",\"#B6E880\",\"#FF97FF\",\"#FECB52\"],\"font\":{\"color\":\"#2a3f5f\"},\"geo\":{\"bgcolor\":\"white\",\"lakecolor\":\"white\",\"landcolor\":\"white\",\"showlakes\":true,\"showland\":true,\"subunitcolor\":\"#C8D4E3\"},\"hoverlabel\":{\"align\":\"left\"},\"hovermode\":\"closest\",\"mapbox\":{\"style\":\"light\"},\"paper_bgcolor\":\"white\",\"plot_bgcolor\":\"white\",\"polar\":{\"angularaxis\":{\"gridcolor\":\"#EBF0F8\",\"linecolor\":\"#EBF0F8\",\"ticks\":\"\"},\"bgcolor\":\"white\",\"radialaxis\":{\"gridcolor\":\"#EBF0F8\",\"linecolor\":\"#EBF0F8\",\"ticks\":\"\"}},\"scene\":{\"xaxis\":{\"backgroundcolor\":\"white\",\"gridcolor\":\"#DFE8F3\",\"gridwidth\":2,\"linecolor\":\"#EBF0F8\",\"showbackground\":true,\"ticks\":\"\",\"zerolinecolor\":\"#EBF0F8\"},\"yaxis\":{\"backgroundcolor\":\"white\",\"gridcolor\":\"#DFE8F3\",\"gridwidth\":2,\"linecolor\":\"#EBF0F8\",\"showbackground\":true,\"ticks\":\"\",\"zerolinecolor\":\"#EBF0F8\"},\"zaxis\":{\"backgroundcolor\":\"white\",\"gridcolor\":\"#DFE8F3\",\"gridwidth\":2,\"linecolor\":\"#EBF0F8\",\"showbackground\":true,\"ticks\":\"\",\"zerolinecolor\":\"#EBF0F8\"}},\"shapedefaults\":{\"line\":{\"color\":\"#2a3f5f\"}},\"ternary\":{\"aaxis\":{\"gridcolor\":\"#DFE8F3\",\"linecolor\":\"#A2B1C6\",\"ticks\":\"\"},\"baxis\":{\"gridcolor\":\"#DFE8F3\",\"linecolor\":\"#A2B1C6\",\"ticks\":\"\"},\"bgcolor\":\"white\",\"caxis\":{\"gridcolor\":\"#DFE8F3\",\"linecolor\":\"#A2B1C6\",\"ticks\":\"\"}},\"title\":{\"x\":0.05},\"xaxis\":{\"automargin\":true,\"gridcolor\":\"#EBF0F8\",\"linecolor\":\"#EBF0F8\",\"ticks\":\"\",\"title\":{\"standoff\":15},\"zerolinecolor\":\"#EBF0F8\",\"zerolinewidth\":2},\"yaxis\":{\"automargin\":true,\"gridcolor\":\"#EBF0F8\",\"linecolor\":\"#EBF0F8\",\"ticks\":\"\",\"title\":{\"standoff\":15},\"zerolinecolor\":\"#EBF0F8\",\"zerolinewidth\":2}}},\"title\":{\"text\":\"Pr\\u00e9dictions de Revenus Yshop - Mod\\u00e8le: Random Forest\"},\"xaxis\":{\"title\":{\"text\":\"Date\"}},\"yaxis\":{\"title\":{\"text\":\"Revenus Quotidiens (\\u20ac)\"}},\"height\":600,\"showlegend\":true},                        {\"responsive\": true}                    ).then(function(){\n",
       "                            \n",
       "var gd = document.getElementById('f9b508ac-43d0-4ac9-82dc-b6628ef029a1');\n",
       "var x = new MutationObserver(function (mutations, observer) {{\n",
       "        var display = window.getComputedStyle(gd).display;\n",
       "        if (!display || display === 'none') {{\n",
       "            console.log([gd, 'removed!']);\n",
       "            Plotly.purge(gd);\n",
       "            observer.disconnect();\n",
       "        }}\n",
       "}});\n",
       "\n",
       "// Listen for the removal of the full notebook cells\n",
       "var notebookContainer = gd.closest('#notebook-container');\n",
       "if (notebookContainer) {{\n",
       "    x.observe(notebookContainer, {childList: true});\n",
       "}}\n",
       "\n",
       "// Listen for the clearing of the current output cell\n",
       "var outputEl = gd.closest('.output');\n",
       "if (outputEl) {{\n",
       "    x.observe(outputEl, {childList: true});\n",
       "}}\n",
       "\n",
       "                        })                };            </script>        </div>"
      ]
     },
     "metadata": {},
     "output_type": "display_data"
    },
    {
     "name": "stdout",
     "output_type": "stream",
     "text": [
      "\n",
      "8. SAUVEGARDE DES RÉSULTATS\n",
      "----------------------------------------\n",
      "Prédictions sauvegardées dans 'yshop_predictions_coherent.csv'\n",
      "\n",
      "9. RÉSUMÉ FINAL - RÉSULTATS COHÉRENTS\n",
      "----------------------------------------\n",
      "🎯 YSHOP - ANALYSE COMPLÈTE ET COHÉRENTE\n",
      "Dataset: 524,879 transactions sur 18499 jours\n",
      "Période historique: 2010-12-01 à 2011-12-09\n",
      "Chiffre d'affaires total: 10,642,128.80 €\n",
      "Revenus quotidiens moyens: 575.28 €\n",
      "Modèle sélectionné: Random Forest\n",
      "Performance modèle: R² = 0.0013\n",
      "Prédictions futures: 739.44 €/jour en moyenne\n",
      "CA prédit sur 30 jours: 22,183.28 €\n",
      "\n",
      "============================================================\n",
      "🎯 PRÉDICTIONS COHÉRENTES GÉNÉRÉES AVEC SUCCÈS !\n",
      "============================================================\n",
      "Chiffre d'affaires total: 10,642,128.80 €\n",
      "Revenus quotidiens moyens: 575.28 €\n",
      "Modèle sélectionné: Random Forest\n",
      "Performance modèle: R² = 0.0013\n",
      "Prédictions futures: 739.44 €/jour en moyenne\n",
      "CA prédit sur 30 jours: 22,183.28 €\n",
      "\n",
      "============================================================\n",
      "🎯 PRÉDICTIONS COHÉRENTES GÉNÉRÉES AVEC SUCCÈS !\n",
      "============================================================\n"
     ]
    }
   ],
   "source": [
    "# PRÉDICTIONS FUTURES COHÉRENTES\n",
    "print(\"PRÉDICTIONS FUTURES - 30 PROCHAINS JOURS\")\n",
    "print(\"=\" * 60)\n",
    "\n",
    "# 1. PRÉPARATION DES DATES FUTURES\n",
    "print(\"\\n1. PRÉPARATION DES DONNÉES FUTURES\")\n",
    "print(\"-\" * 40)\n",
    "\n",
    "# Dernière date des données\n",
    "last_date = valid_data['Date'].max()\n",
    "print(f\"Dernière date des données: {last_date.date()}\")\n",
    "\n",
    "# Créer 30 jours futurs\n",
    "future_dates = pd.date_range(start=last_date + timedelta(days=1), periods=30, freq='D')\n",
    "print(f\"Prédictions pour: {future_dates[0].date()} à {future_dates[-1].date()}\")\n",
    "\n",
    "# 2. CRÉATION DES FEATURES FUTURES\n",
    "print(\"\\n2. CRÉATION DES FEATURES FUTURES\")\n",
    "print(\"-\" * 40)\n",
    "\n",
    "# DataFrame pour les données futures\n",
    "future_data = pd.DataFrame({'Date': future_dates})\n",
    "\n",
    "# Features temporelles\n",
    "future_data['Year'] = future_data['Date'].dt.year\n",
    "future_data['Month'] = future_data['Date'].dt.month\n",
    "future_data['Day'] = future_data['Date'].dt.day\n",
    "future_data['DayOfWeek'] = future_data['Date'].dt.dayofweek\n",
    "future_data['DayOfYear'] = future_data['Date'].dt.dayofyear\n",
    "future_data['WeekOfYear'] = future_data['Date'].dt.isocalendar().week\n",
    "\n",
    "# Features cycliques\n",
    "future_data['sin_month'] = np.sin(2 * np.pi * future_data['Month'] / 12)\n",
    "future_data['cos_month'] = np.cos(2 * np.pi * future_data['Month'] / 12)\n",
    "future_data['sin_day'] = np.sin(2 * np.pi * future_data['Day'] / 31)\n",
    "future_data['cos_day'] = np.cos(2 * np.pi * future_data['Day'] / 31)\n",
    "future_data['sin_dayofweek'] = np.sin(2 * np.pi * future_data['DayOfWeek'] / 7)\n",
    "future_data['cos_dayofweek'] = np.cos(2 * np.pi * future_data['DayOfWeek'] / 7)\n",
    "\n",
    "# Features booléennes\n",
    "future_data['is_weekend'] = (future_data['DayOfWeek'] >= 5).astype(int)\n",
    "future_data['is_month_start'] = (future_data['Day'] <= 7).astype(int)\n",
    "future_data['is_month_end'] = (future_data['Day'] >= 24).astype(int)\n",
    "\n",
    "# Tendance (continuation de la série temporelle)\n",
    "last_trend = valid_data['trend'].max()\n",
    "future_data['trend'] = range(last_trend + 1, last_trend + 1 + len(future_data))\n",
    "\n",
    "# 3. APPROXIMATION DES FEATURES LAG ET MOYENNES MOBILES\n",
    "print(\"\\n3. APPROXIMATION DES FEATURES HISTORIQUES\")\n",
    "print(\"-\" * 40)\n",
    "\n",
    "# Utiliser les dernières valeurs disponibles pour les lags et moyennes mobiles\n",
    "last_revenues = valid_data['Revenue'].tail(30).values\n",
    "recent_mean = np.mean(last_revenues)\n",
    "recent_std = np.std(last_revenues)\n",
    "\n",
    "print(f\"Revenus récents - Moyenne: {recent_mean:.2f}€, Std: {recent_std:.2f}€\")\n",
    "\n",
    "# Features lag - utiliser les dernières valeurs connues\n",
    "for lag in [1, 2, 3, 7, 14]:\n",
    "    if lag <= len(last_revenues):\n",
    "        future_data[f'revenue_lag_{lag}'] = last_revenues[-lag]\n",
    "    else:\n",
    "        future_data[f'revenue_lag_{lag}'] = recent_mean\n",
    "\n",
    "# Moyennes mobiles - utiliser la moyenne récente\n",
    "for window in [3, 7, 14, 30]:\n",
    "    future_data[f'revenue_ma_{window}'] = recent_mean\n",
    "\n",
    "# Écart-types\n",
    "future_data['revenue_std_7'] = recent_std\n",
    "future_data['revenue_std_30'] = recent_std\n",
    "\n",
    "print(f\"Features futures créées: {future_data.shape}\")\n",
    "\n",
    "# 4. VÉRIFICATION DES FEATURES\n",
    "print(\"\\n4. VÉRIFICATION DES FEATURES\")\n",
    "print(\"-\" * 40)\n",
    "\n",
    "# S'assurer que toutes les features nécessaires sont présentes\n",
    "missing_features = set(feature_columns) - set(future_data.columns)\n",
    "if missing_features:\n",
    "    print(f\"Features manquantes: {missing_features}\")\n",
    "    for feature in missing_features:\n",
    "        future_data[feature] = 0  # Valeur par défaut\n",
    "\n",
    "# Réorganiser les colonnes dans le bon ordre\n",
    "future_features = future_data[feature_columns]\n",
    "print(f\"Features pour prédiction: {future_features.shape}\")\n",
    "\n",
    "# 5. GÉNÉRATION DES PRÉDICTIONS\n",
    "print(\"\\n5. GÉNÉRATION DES PRÉDICTIONS\")\n",
    "print(\"-\" * 40)\n",
    "\n",
    "# Prédictions avec le meilleur modèle\n",
    "if best_model_name == 'Linear Regression':\n",
    "    future_features_scaled = scaler.transform(future_features)\n",
    "    future_predictions = best_model.predict(future_features_scaled)\n",
    "else:\n",
    "    future_predictions = best_model.predict(future_features)\n",
    "\n",
    "# S'assurer que les prédictions sont positives\n",
    "future_predictions = np.maximum(future_predictions, 0)\n",
    "\n",
    "print(f\"Prédictions générées pour {len(future_predictions)} jours\")\n",
    "\n",
    "# 6. ANALYSE DES PRÉDICTIONS\n",
    "print(\"\\n6. ANALYSE DES PRÉDICTIONS\")\n",
    "print(\"-\" * 40)\n",
    "\n",
    "# Statistiques des prédictions\n",
    "pred_mean = np.mean(future_predictions)\n",
    "pred_median = np.median(future_predictions)\n",
    "pred_min = np.min(future_predictions)\n",
    "pred_max = np.max(future_predictions)\n",
    "pred_total = np.sum(future_predictions)\n",
    "\n",
    "print(f\"📊 STATISTIQUES DES PRÉDICTIONS:\")\n",
    "print(f\"Revenue moyenne prédite: {pred_mean:,.2f}€/jour\")\n",
    "print(f\"Revenue médiane prédite: {pred_median:,.2f}€/jour\")\n",
    "print(f\"Revenue min prédite: {pred_min:,.2f}€/jour\")\n",
    "print(f\"Revenue max prédite: {pred_max:,.2f}€/jour\")\n",
    "print(f\"Revenue totale prédite (30j): {pred_total:,.2f}€\")\n",
    "\n",
    "# Comparaison avec l'historique\n",
    "historical_mean = valid_data['Revenue'].mean()\n",
    "historical_std = valid_data['Revenue'].std()\n",
    "\n",
    "print(f\"\\n📈 COMPARAISON AVEC L'HISTORIQUE:\")\n",
    "print(f\"Revenue historique moyenne: {historical_mean:,.2f}€/jour\")\n",
    "print(f\"Écart-type historique: {historical_std:,.2f}€/jour\")\n",
    "print(f\"Différence vs historique: {((pred_mean - historical_mean) / historical_mean * 100):+.1f}%\")\n",
    "\n",
    "# 7. CRÉATION DU GRAPHIQUE SIMPLIFIÉ\n",
    "print(\"\\n7. VISUALISATION DES PRÉDICTIONS\")\n",
    "print(\"-\" * 40)\n",
    "\n",
    "# Préparer les données pour le graphique\n",
    "# Historique (30 derniers jours)\n",
    "hist_data = valid_data.tail(30)[['Date', 'Revenue']].copy()\n",
    "\n",
    "# Prédictions futures\n",
    "pred_data = pd.DataFrame({\n",
    "    'Date': future_dates,\n",
    "    'Revenue': future_predictions\n",
    "})\n",
    "\n",
    "# Créer le graphique simple\n",
    "fig = go.Figure()\n",
    "\n",
    "# Données historiques\n",
    "fig.add_trace(go.Scatter(\n",
    "    x=hist_data['Date'],\n",
    "    y=hist_data['Revenue'],\n",
    "    mode='lines+markers',\n",
    "    name='Données Historiques',\n",
    "    line=dict(color='blue', width=2),\n",
    "    marker=dict(size=4)\n",
    "))\n",
    "\n",
    "# Prédictions futures\n",
    "fig.add_trace(go.Scatter(\n",
    "    x=pred_data['Date'],\n",
    "    y=pred_data['Revenue'],\n",
    "    mode='lines+markers',\n",
    "    name='Prédictions Futures',\n",
    "    line=dict(color='red', width=2, dash='dash'),\n",
    "    marker=dict(size=4)\n",
    "))\n",
    "\n",
    "fig.update_layout(\n",
    "    title=f'Prédictions de Revenus Yshop - Modèle: {best_model_name}',\n",
    "    xaxis_title='Date',\n",
    "    yaxis_title='Revenus Quotidiens (€)',\n",
    "    template='plotly_white',\n",
    "    height=600,\n",
    "    showlegend=True\n",
    ")\n",
    "\n",
    "fig.show()\n",
    "\n",
    "# 8. SAUVEGARDE DES PRÉDICTIONS\n",
    "print(\"\\n8. SAUVEGARDE DES RÉSULTATS\")\n",
    "print(\"-\" * 40)\n",
    "\n",
    "# Créer le DataFrame final des prédictions\n",
    "predictions_final = pd.DataFrame({\n",
    "    'Date': future_dates,\n",
    "    'Predicted_Revenue': future_predictions,\n",
    "    'Day_of_Week': future_data['DayOfWeek'],\n",
    "    'Is_Weekend': future_data['is_weekend'],\n",
    "    'Model_Used': best_model_name\n",
    "})\n",
    "\n",
    "# Sauvegarder\n",
    "predictions_final.to_csv('yshop_predictions_coherent.csv', index=False)\n",
    "print(f\"Prédictions sauvegardées dans 'yshop_predictions_coherent.csv'\")\n",
    "\n",
    "# 9. RÉSUMÉ FINAL DES RÉSULTATS COHÉRENTS\n",
    "print(\"\\n9. RÉSUMÉ FINAL - RÉSULTATS COHÉRENTS\")\n",
    "print(\"-\" * 40)\n",
    "\n",
    "print(f\"🎯 YSHOP - ANALYSE COMPLÈTE ET COHÉRENTE\")\n",
    "print(f\"Dataset: {df_normal.shape[0]:,} transactions sur {len(daily_data)} jours\")\n",
    "print(f\"Période historique: {daily_data['Date'].min().date()} à {daily_data['Date'].max().date()}\")\n",
    "print(f\"Chiffre d'affaires total: {df_normal['total_price'].sum():,.2f} €\")\n",
    "print(f\"Revenus quotidiens moyens: {daily_data['Revenue'].mean():,.2f} €\")\n",
    "print(f\"Modèle sélectionné: {best_model_name}\")\n",
    "print(f\"Performance modèle: R² = {results[best_model_name]['R²']:.4f}\")\n",
    "print(f\"Prédictions futures: {pred_mean:,.2f} €/jour en moyenne\")\n",
    "print(f\"CA prédit sur 30 jours: {pred_total:,.2f} €\")\n",
    "\n",
    "print(\"\\n\" + \"=\"*60)\n",
    "print(\" PRÉDICTIONS COHÉRENTES GÉNÉRÉES AVEC SUCCÈS !\")\n",
    "print(\"=\"*60)"
   ]
  },
  {
   "cell_type": "markdown",
   "id": "b83c2252",
   "metadata": {},
   "source": [
    "## 5. Data Storytelling et Dashboard Interactif\n",
    "\n",
    "Dans cette section, nous allons :\n",
    "- Créer un dashboard interactif de synthèse\n",
    "- Présenter les insights clés pour Yshop\n",
    "- Fournir des recommandations business\n",
    "- Créer une interface utilisateur pour les prédictions"
   ]
  },
  {
   "cell_type": "code",
   "execution_count": 62,
   "id": "d328faf9",
   "metadata": {},
   "outputs": [
    {
     "name": "stdout",
     "output_type": "stream",
     "text": [
      "DASHBOARD DE SYNTHÈSE - KPIs YSHOP\n",
      "============================================================\n"
     ]
    },
    {
     "data": {
      "application/vnd.plotly.v1+json": {
       "config": {
        "plotlyServerURL": "https://plot.ly"
       },
       "data": [
        {
         "domain": {
          "column": 0,
          "row": 0,
          "x": [
           0,
           0.2888888888888889
          ],
          "y": [
           0.7466666666666667,
           1
          ]
         },
         "mode": "number",
         "number": {
          "font": {
           "size": 20
          },
          "prefix": "",
          "suffix": " €"
         },
         "title": {
          "text": "Chiffre Affaires (€)"
         },
         "type": "indicator",
         "value": 10642128.804000001
        },
        {
         "domain": {
          "column": 1,
          "row": 0,
          "x": [
           0.35555555555555557,
           0.6444444444444445
          ],
          "y": [
           0.7466666666666667,
           1
          ]
         },
         "mode": "number",
         "number": {
          "font": {
           "size": 20
          }
         },
         "title": {
          "text": "Commandes Totales"
         },
         "type": "indicator",
         "value": 19960
        },
        {
         "domain": {
          "column": 2,
          "row": 0,
          "x": [
           0.7111111111111111,
           1
          ],
          "y": [
           0.7466666666666667,
           1
          ]
         },
         "mode": "number",
         "number": {
          "font": {
           "size": 20
          }
         },
         "title": {
          "text": "Clients Uniques"
         },
         "type": "indicator",
         "value": 4338
        },
        {
         "domain": {
          "column": 0,
          "row": 1,
          "x": [
           0,
           0.2888888888888889
          ],
          "y": [
           0.37333333333333335,
           0.6266666666666667
          ]
         },
         "mode": "number",
         "number": {
          "font": {
           "size": 20
          },
          "prefix": "",
          "suffix": " €"
         },
         "title": {
          "text": "Panier Moyen (€)"
         },
         "type": "indicator",
         "value": 533.1727857715432
        },
        {
         "domain": {
          "column": 1,
          "row": 1,
          "x": [
           0.35555555555555557,
           0.6444444444444445
          ],
          "y": [
           0.37333333333333335,
           0.6266666666666667
          ]
         },
         "mode": "number",
         "number": {
          "font": {
           "size": 20
          },
          "prefix": "",
          "suffix": " €"
         },
         "title": {
          "text": "CA Quotidien Moyen (€)"
         },
         "type": "indicator",
         "value": 28531.176418230567
        },
        {
         "domain": {
          "column": 2,
          "row": 1,
          "x": [
           0.7111111111111111,
           1
          ],
          "y": [
           0.37333333333333335,
           0.6266666666666667
          ]
         },
         "mode": "number",
         "number": {
          "font": {
           "size": 20
          }
         },
         "title": {
          "text": "Unités Vendues"
         },
         "type": "indicator",
         "value": 5572421
        },
        {
         "marker": {
          "color": "lightblue"
         },
         "name": "CA Mensuel",
         "type": "bar",
         "x": [
          "2010-12",
          "2011-01",
          "2011-02",
          "2011-03",
          "2011-04",
          "2011-05",
          "2011-06",
          "2011-07",
          "2011-08",
          "2011-09",
          "2011-10",
          "2011-11",
          "2011-12"
         ],
         "xaxis": "x",
         "y": {
          "bdata": "XI/CdZkRKUGF61E4Jw0lQdejcD3G5B9BUrgehW7bJUEdWmT7EGMgQYXrUTgheidBUrgeBcY1J0FGtvM9+OklQSlcj8KiICdBeekmMbMeMEGuR+G6H5ExQXsUrsd68jZBj8L1qOB2I0E=",
          "dtype": "f8"
         },
         "yaxis": "y"
        },
        {
         "domain": {
          "x": [
           0.35555555555555557,
           0.6444444444444445
          ],
          "y": [
           0,
           0.25333333333333335
          ]
         },
         "labels": [
          "Autre",
          "Sacs & Accessoires",
          "Décoration Romantique",
          "Éclairage & Bougies",
          "Vaisselle & Boissons"
         ],
         "name": "Top Catégories",
         "type": "pie",
         "values": {
          "bdata": "5dAi65TuVEFI4XrUNrswQR+F69EF/C9BzczMTGG/JUEVrkdhUeIjQQ==",
          "dtype": "f8"
         }
        },
        {
         "marker": {
          "color": "lightgreen"
         },
         "name": "R² Score",
         "type": "bar",
         "x": [
          "Ridge Regression",
          "Lasso Regression",
          "Random Forest"
         ],
         "xaxis": "x2",
         "y": [
          -0.004045180795481107,
          -0.001844634743385587,
          0.0012540365374688056
         ],
         "yaxis": "y2"
        }
       ],
       "layout": {
        "annotations": [
         {
          "font": {
           "size": 16
          },
          "showarrow": false,
          "text": "Chiffre Affaires Total",
          "x": 0.14444444444444446,
          "xanchor": "center",
          "xref": "paper",
          "y": 1,
          "yanchor": "bottom",
          "yref": "paper"
         },
         {
          "font": {
           "size": 16
          },
          "showarrow": false,
          "text": "Commandes Totales",
          "x": 0.5,
          "xanchor": "center",
          "xref": "paper",
          "y": 1,
          "yanchor": "bottom",
          "yref": "paper"
         },
         {
          "font": {
           "size": 16
          },
          "showarrow": false,
          "text": "Clients Uniques",
          "x": 0.8555555555555556,
          "xanchor": "center",
          "xref": "paper",
          "y": 1,
          "yanchor": "bottom",
          "yref": "paper"
         },
         {
          "font": {
           "size": 16
          },
          "showarrow": false,
          "text": "Panier Moyen",
          "x": 0.14444444444444446,
          "xanchor": "center",
          "xref": "paper",
          "y": 0.6266666666666667,
          "yanchor": "bottom",
          "yref": "paper"
         },
         {
          "font": {
           "size": 16
          },
          "showarrow": false,
          "text": "CA Quotidien Moyen",
          "x": 0.5,
          "xanchor": "center",
          "xref": "paper",
          "y": 0.6266666666666667,
          "yanchor": "bottom",
          "yref": "paper"
         },
         {
          "font": {
           "size": 16
          },
          "showarrow": false,
          "text": "Produits Vendus",
          "x": 0.8555555555555556,
          "xanchor": "center",
          "xref": "paper",
          "y": 0.6266666666666667,
          "yanchor": "bottom",
          "yref": "paper"
         },
         {
          "font": {
           "size": 16
          },
          "showarrow": false,
          "text": "Tendance Mensuelle",
          "x": 0.14444444444444446,
          "xanchor": "center",
          "xref": "paper",
          "y": 0.25333333333333335,
          "yanchor": "bottom",
          "yref": "paper"
         },
         {
          "font": {
           "size": 16
          },
          "showarrow": false,
          "text": "Top Catégories",
          "x": 0.5,
          "xanchor": "center",
          "xref": "paper",
          "y": 0.25333333333333335,
          "yanchor": "bottom",
          "yref": "paper"
         },
         {
          "font": {
           "size": 16
          },
          "showarrow": false,
          "text": "Performance Modèle",
          "x": 0.8555555555555556,
          "xanchor": "center",
          "xref": "paper",
          "y": 0.25333333333333335,
          "yanchor": "bottom",
          "yref": "paper"
         }
        ],
        "height": 900,
        "showlegend": false,
        "template": {
         "data": {
          "bar": [
           {
            "error_x": {
             "color": "#2a3f5f"
            },
            "error_y": {
             "color": "#2a3f5f"
            },
            "marker": {
             "line": {
              "color": "#E5ECF6",
              "width": 0.5
             },
             "pattern": {
              "fillmode": "overlay",
              "size": 10,
              "solidity": 0.2
             }
            },
            "type": "bar"
           }
          ],
          "barpolar": [
           {
            "marker": {
             "line": {
              "color": "#E5ECF6",
              "width": 0.5
             },
             "pattern": {
              "fillmode": "overlay",
              "size": 10,
              "solidity": 0.2
             }
            },
            "type": "barpolar"
           }
          ],
          "carpet": [
           {
            "aaxis": {
             "endlinecolor": "#2a3f5f",
             "gridcolor": "white",
             "linecolor": "white",
             "minorgridcolor": "white",
             "startlinecolor": "#2a3f5f"
            },
            "baxis": {
             "endlinecolor": "#2a3f5f",
             "gridcolor": "white",
             "linecolor": "white",
             "minorgridcolor": "white",
             "startlinecolor": "#2a3f5f"
            },
            "type": "carpet"
           }
          ],
          "choropleth": [
           {
            "colorbar": {
             "outlinewidth": 0,
             "ticks": ""
            },
            "type": "choropleth"
           }
          ],
          "contour": [
           {
            "colorbar": {
             "outlinewidth": 0,
             "ticks": ""
            },
            "colorscale": [
             [
              0,
              "#0d0887"
             ],
             [
              0.1111111111111111,
              "#46039f"
             ],
             [
              0.2222222222222222,
              "#7201a8"
             ],
             [
              0.3333333333333333,
              "#9c179e"
             ],
             [
              0.4444444444444444,
              "#bd3786"
             ],
             [
              0.5555555555555556,
              "#d8576b"
             ],
             [
              0.6666666666666666,
              "#ed7953"
             ],
             [
              0.7777777777777778,
              "#fb9f3a"
             ],
             [
              0.8888888888888888,
              "#fdca26"
             ],
             [
              1,
              "#f0f921"
             ]
            ],
            "type": "contour"
           }
          ],
          "contourcarpet": [
           {
            "colorbar": {
             "outlinewidth": 0,
             "ticks": ""
            },
            "type": "contourcarpet"
           }
          ],
          "heatmap": [
           {
            "colorbar": {
             "outlinewidth": 0,
             "ticks": ""
            },
            "colorscale": [
             [
              0,
              "#0d0887"
             ],
             [
              0.1111111111111111,
              "#46039f"
             ],
             [
              0.2222222222222222,
              "#7201a8"
             ],
             [
              0.3333333333333333,
              "#9c179e"
             ],
             [
              0.4444444444444444,
              "#bd3786"
             ],
             [
              0.5555555555555556,
              "#d8576b"
             ],
             [
              0.6666666666666666,
              "#ed7953"
             ],
             [
              0.7777777777777778,
              "#fb9f3a"
             ],
             [
              0.8888888888888888,
              "#fdca26"
             ],
             [
              1,
              "#f0f921"
             ]
            ],
            "type": "heatmap"
           }
          ],
          "histogram": [
           {
            "marker": {
             "pattern": {
              "fillmode": "overlay",
              "size": 10,
              "solidity": 0.2
             }
            },
            "type": "histogram"
           }
          ],
          "histogram2d": [
           {
            "colorbar": {
             "outlinewidth": 0,
             "ticks": ""
            },
            "colorscale": [
             [
              0,
              "#0d0887"
             ],
             [
              0.1111111111111111,
              "#46039f"
             ],
             [
              0.2222222222222222,
              "#7201a8"
             ],
             [
              0.3333333333333333,
              "#9c179e"
             ],
             [
              0.4444444444444444,
              "#bd3786"
             ],
             [
              0.5555555555555556,
              "#d8576b"
             ],
             [
              0.6666666666666666,
              "#ed7953"
             ],
             [
              0.7777777777777778,
              "#fb9f3a"
             ],
             [
              0.8888888888888888,
              "#fdca26"
             ],
             [
              1,
              "#f0f921"
             ]
            ],
            "type": "histogram2d"
           }
          ],
          "histogram2dcontour": [
           {
            "colorbar": {
             "outlinewidth": 0,
             "ticks": ""
            },
            "colorscale": [
             [
              0,
              "#0d0887"
             ],
             [
              0.1111111111111111,
              "#46039f"
             ],
             [
              0.2222222222222222,
              "#7201a8"
             ],
             [
              0.3333333333333333,
              "#9c179e"
             ],
             [
              0.4444444444444444,
              "#bd3786"
             ],
             [
              0.5555555555555556,
              "#d8576b"
             ],
             [
              0.6666666666666666,
              "#ed7953"
             ],
             [
              0.7777777777777778,
              "#fb9f3a"
             ],
             [
              0.8888888888888888,
              "#fdca26"
             ],
             [
              1,
              "#f0f921"
             ]
            ],
            "type": "histogram2dcontour"
           }
          ],
          "mesh3d": [
           {
            "colorbar": {
             "outlinewidth": 0,
             "ticks": ""
            },
            "type": "mesh3d"
           }
          ],
          "parcoords": [
           {
            "line": {
             "colorbar": {
              "outlinewidth": 0,
              "ticks": ""
             }
            },
            "type": "parcoords"
           }
          ],
          "pie": [
           {
            "automargin": true,
            "type": "pie"
           }
          ],
          "scatter": [
           {
            "fillpattern": {
             "fillmode": "overlay",
             "size": 10,
             "solidity": 0.2
            },
            "type": "scatter"
           }
          ],
          "scatter3d": [
           {
            "line": {
             "colorbar": {
              "outlinewidth": 0,
              "ticks": ""
             }
            },
            "marker": {
             "colorbar": {
              "outlinewidth": 0,
              "ticks": ""
             }
            },
            "type": "scatter3d"
           }
          ],
          "scattercarpet": [
           {
            "marker": {
             "colorbar": {
              "outlinewidth": 0,
              "ticks": ""
             }
            },
            "type": "scattercarpet"
           }
          ],
          "scattergeo": [
           {
            "marker": {
             "colorbar": {
              "outlinewidth": 0,
              "ticks": ""
             }
            },
            "type": "scattergeo"
           }
          ],
          "scattergl": [
           {
            "marker": {
             "colorbar": {
              "outlinewidth": 0,
              "ticks": ""
             }
            },
            "type": "scattergl"
           }
          ],
          "scattermap": [
           {
            "marker": {
             "colorbar": {
              "outlinewidth": 0,
              "ticks": ""
             }
            },
            "type": "scattermap"
           }
          ],
          "scattermapbox": [
           {
            "marker": {
             "colorbar": {
              "outlinewidth": 0,
              "ticks": ""
             }
            },
            "type": "scattermapbox"
           }
          ],
          "scatterpolar": [
           {
            "marker": {
             "colorbar": {
              "outlinewidth": 0,
              "ticks": ""
             }
            },
            "type": "scatterpolar"
           }
          ],
          "scatterpolargl": [
           {
            "marker": {
             "colorbar": {
              "outlinewidth": 0,
              "ticks": ""
             }
            },
            "type": "scatterpolargl"
           }
          ],
          "scatterternary": [
           {
            "marker": {
             "colorbar": {
              "outlinewidth": 0,
              "ticks": ""
             }
            },
            "type": "scatterternary"
           }
          ],
          "surface": [
           {
            "colorbar": {
             "outlinewidth": 0,
             "ticks": ""
            },
            "colorscale": [
             [
              0,
              "#0d0887"
             ],
             [
              0.1111111111111111,
              "#46039f"
             ],
             [
              0.2222222222222222,
              "#7201a8"
             ],
             [
              0.3333333333333333,
              "#9c179e"
             ],
             [
              0.4444444444444444,
              "#bd3786"
             ],
             [
              0.5555555555555556,
              "#d8576b"
             ],
             [
              0.6666666666666666,
              "#ed7953"
             ],
             [
              0.7777777777777778,
              "#fb9f3a"
             ],
             [
              0.8888888888888888,
              "#fdca26"
             ],
             [
              1,
              "#f0f921"
             ]
            ],
            "type": "surface"
           }
          ],
          "table": [
           {
            "cells": {
             "fill": {
              "color": "#EBF0F8"
             },
             "line": {
              "color": "white"
             }
            },
            "header": {
             "fill": {
              "color": "#C8D4E3"
             },
             "line": {
              "color": "white"
             }
            },
            "type": "table"
           }
          ]
         },
         "layout": {
          "annotationdefaults": {
           "arrowcolor": "#2a3f5f",
           "arrowhead": 0,
           "arrowwidth": 1
          },
          "autotypenumbers": "strict",
          "coloraxis": {
           "colorbar": {
            "outlinewidth": 0,
            "ticks": ""
           }
          },
          "colorscale": {
           "diverging": [
            [
             0,
             "#8e0152"
            ],
            [
             0.1,
             "#c51b7d"
            ],
            [
             0.2,
             "#de77ae"
            ],
            [
             0.3,
             "#f1b6da"
            ],
            [
             0.4,
             "#fde0ef"
            ],
            [
             0.5,
             "#f7f7f7"
            ],
            [
             0.6,
             "#e6f5d0"
            ],
            [
             0.7,
             "#b8e186"
            ],
            [
             0.8,
             "#7fbc41"
            ],
            [
             0.9,
             "#4d9221"
            ],
            [
             1,
             "#276419"
            ]
           ],
           "sequential": [
            [
             0,
             "#0d0887"
            ],
            [
             0.1111111111111111,
             "#46039f"
            ],
            [
             0.2222222222222222,
             "#7201a8"
            ],
            [
             0.3333333333333333,
             "#9c179e"
            ],
            [
             0.4444444444444444,
             "#bd3786"
            ],
            [
             0.5555555555555556,
             "#d8576b"
            ],
            [
             0.6666666666666666,
             "#ed7953"
            ],
            [
             0.7777777777777778,
             "#fb9f3a"
            ],
            [
             0.8888888888888888,
             "#fdca26"
            ],
            [
             1,
             "#f0f921"
            ]
           ],
           "sequentialminus": [
            [
             0,
             "#0d0887"
            ],
            [
             0.1111111111111111,
             "#46039f"
            ],
            [
             0.2222222222222222,
             "#7201a8"
            ],
            [
             0.3333333333333333,
             "#9c179e"
            ],
            [
             0.4444444444444444,
             "#bd3786"
            ],
            [
             0.5555555555555556,
             "#d8576b"
            ],
            [
             0.6666666666666666,
             "#ed7953"
            ],
            [
             0.7777777777777778,
             "#fb9f3a"
            ],
            [
             0.8888888888888888,
             "#fdca26"
            ],
            [
             1,
             "#f0f921"
            ]
           ]
          },
          "colorway": [
           "#636efa",
           "#EF553B",
           "#00cc96",
           "#ab63fa",
           "#FFA15A",
           "#19d3f3",
           "#FF6692",
           "#B6E880",
           "#FF97FF",
           "#FECB52"
          ],
          "font": {
           "color": "#2a3f5f"
          },
          "geo": {
           "bgcolor": "white",
           "lakecolor": "white",
           "landcolor": "#E5ECF6",
           "showlakes": true,
           "showland": true,
           "subunitcolor": "white"
          },
          "hoverlabel": {
           "align": "left"
          },
          "hovermode": "closest",
          "mapbox": {
           "style": "light"
          },
          "paper_bgcolor": "white",
          "plot_bgcolor": "#E5ECF6",
          "polar": {
           "angularaxis": {
            "gridcolor": "white",
            "linecolor": "white",
            "ticks": ""
           },
           "bgcolor": "#E5ECF6",
           "radialaxis": {
            "gridcolor": "white",
            "linecolor": "white",
            "ticks": ""
           }
          },
          "scene": {
           "xaxis": {
            "backgroundcolor": "#E5ECF6",
            "gridcolor": "white",
            "gridwidth": 2,
            "linecolor": "white",
            "showbackground": true,
            "ticks": "",
            "zerolinecolor": "white"
           },
           "yaxis": {
            "backgroundcolor": "#E5ECF6",
            "gridcolor": "white",
            "gridwidth": 2,
            "linecolor": "white",
            "showbackground": true,
            "ticks": "",
            "zerolinecolor": "white"
           },
           "zaxis": {
            "backgroundcolor": "#E5ECF6",
            "gridcolor": "white",
            "gridwidth": 2,
            "linecolor": "white",
            "showbackground": true,
            "ticks": "",
            "zerolinecolor": "white"
           }
          },
          "shapedefaults": {
           "line": {
            "color": "#2a3f5f"
           }
          },
          "ternary": {
           "aaxis": {
            "gridcolor": "white",
            "linecolor": "white",
            "ticks": ""
           },
           "baxis": {
            "gridcolor": "white",
            "linecolor": "white",
            "ticks": ""
           },
           "bgcolor": "#E5ECF6",
           "caxis": {
            "gridcolor": "white",
            "linecolor": "white",
            "ticks": ""
           }
          },
          "title": {
           "x": 0.05
          },
          "xaxis": {
           "automargin": true,
           "gridcolor": "white",
           "linecolor": "white",
           "ticks": "",
           "title": {
            "standoff": 15
           },
           "zerolinecolor": "white",
           "zerolinewidth": 2
          },
          "yaxis": {
           "automargin": true,
           "gridcolor": "white",
           "linecolor": "white",
           "ticks": "",
           "title": {
            "standoff": 15
           },
           "zerolinecolor": "white",
           "zerolinewidth": 2
          }
         }
        },
        "title": {
         "text": "Dashboard Yshop - Vue d'Ensemble",
         "x": 0.5
        },
        "xaxis": {
         "anchor": "y",
         "domain": [
          0,
          0.2888888888888889
         ]
        },
        "xaxis2": {
         "anchor": "y2",
         "domain": [
          0.7111111111111111,
          1
         ]
        },
        "yaxis": {
         "anchor": "x",
         "domain": [
          0,
          0.25333333333333335
         ]
        },
        "yaxis2": {
         "anchor": "x2",
         "domain": [
          0,
          0.25333333333333335
         ]
        }
       }
      },
      "text/html": [
       "<div>            <script src=\"https://cdnjs.cloudflare.com/ajax/libs/mathjax/2.7.5/MathJax.js?config=TeX-AMS-MML_SVG\"></script><script type=\"text/javascript\">if (window.MathJax && window.MathJax.Hub && window.MathJax.Hub.Config) {window.MathJax.Hub.Config({SVG: {font: \"STIX-Web\"}});}</script>                <script type=\"text/javascript\">window.PlotlyConfig = {MathJaxConfig: 'local'};</script>\n",
       "        <script charset=\"utf-8\" src=\"https://cdn.plot.ly/plotly-3.0.1.min.js\"></script>                <div id=\"a49864da-7e8b-4b17-9864-a2acf6b186b5\" class=\"plotly-graph-div\" style=\"height:900px; width:100%;\"></div>            <script type=\"text/javascript\">                window.PLOTLYENV=window.PLOTLYENV || {};                                if (document.getElementById(\"a49864da-7e8b-4b17-9864-a2acf6b186b5\")) {                    Plotly.newPlot(                        \"a49864da-7e8b-4b17-9864-a2acf6b186b5\",                        [{\"domain\":{\"column\":0,\"row\":0,\"x\":[0.0,0.2888888888888889],\"y\":[0.7466666666666667,1.0]},\"mode\":\"number\",\"number\":{\"font\":{\"size\":20},\"prefix\":\"\",\"suffix\":\" \\u20ac\"},\"title\":{\"text\":\"Chiffre Affaires (\\u20ac)\"},\"value\":10642128.804000001,\"type\":\"indicator\"},{\"domain\":{\"column\":1,\"row\":0,\"x\":[0.35555555555555557,0.6444444444444445],\"y\":[0.7466666666666667,1.0]},\"mode\":\"number\",\"number\":{\"font\":{\"size\":20}},\"title\":{\"text\":\"Commandes Totales\"},\"value\":19960,\"type\":\"indicator\"},{\"domain\":{\"column\":2,\"row\":0,\"x\":[0.7111111111111111,1.0],\"y\":[0.7466666666666667,1.0]},\"mode\":\"number\",\"number\":{\"font\":{\"size\":20}},\"title\":{\"text\":\"Clients Uniques\"},\"value\":4338,\"type\":\"indicator\"},{\"domain\":{\"column\":0,\"row\":1,\"x\":[0.0,0.2888888888888889],\"y\":[0.37333333333333335,0.6266666666666667]},\"mode\":\"number\",\"number\":{\"font\":{\"size\":20},\"prefix\":\"\",\"suffix\":\" \\u20ac\"},\"title\":{\"text\":\"Panier Moyen (\\u20ac)\"},\"value\":533.1727857715432,\"type\":\"indicator\"},{\"domain\":{\"column\":1,\"row\":1,\"x\":[0.35555555555555557,0.6444444444444445],\"y\":[0.37333333333333335,0.6266666666666667]},\"mode\":\"number\",\"number\":{\"font\":{\"size\":20},\"prefix\":\"\",\"suffix\":\" \\u20ac\"},\"title\":{\"text\":\"CA Quotidien Moyen (\\u20ac)\"},\"value\":28531.176418230567,\"type\":\"indicator\"},{\"domain\":{\"column\":2,\"row\":1,\"x\":[0.7111111111111111,1.0],\"y\":[0.37333333333333335,0.6266666666666667]},\"mode\":\"number\",\"number\":{\"font\":{\"size\":20}},\"title\":{\"text\":\"Unit\\u00e9s Vendues\"},\"value\":5572421,\"type\":\"indicator\"},{\"marker\":{\"color\":\"lightblue\"},\"name\":\"CA Mensuel\",\"x\":[\"2010-12\",\"2011-01\",\"2011-02\",\"2011-03\",\"2011-04\",\"2011-05\",\"2011-06\",\"2011-07\",\"2011-08\",\"2011-09\",\"2011-10\",\"2011-11\",\"2011-12\"],\"y\":{\"dtype\":\"f8\",\"bdata\":\"XI\\u002fCdZkRKUGF61E4Jw0lQdejcD3G5B9BUrgehW7bJUEdWmT7EGMgQYXrUTgheidBUrgeBcY1J0FGtvM9+OklQSlcj8KiICdBeekmMbMeMEGuR+G6H5ExQXsUrsd68jZBj8L1qOB2I0E=\"},\"type\":\"bar\",\"xaxis\":\"x\",\"yaxis\":\"y\"},{\"labels\":[\"Autre\",\"Sacs & Accessoires\",\"D\\u00e9coration Romantique\",\"\\u00c9clairage & Bougies\",\"Vaisselle & Boissons\"],\"name\":\"Top Cat\\u00e9gories\",\"values\":{\"dtype\":\"f8\",\"bdata\":\"5dAi65TuVEFI4XrUNrswQR+F69EF\\u002fC9BzczMTGG\\u002fJUEVrkdhUeIjQQ==\"},\"type\":\"pie\",\"domain\":{\"x\":[0.35555555555555557,0.6444444444444445],\"y\":[0.0,0.25333333333333335]}},{\"marker\":{\"color\":\"lightgreen\"},\"name\":\"R\\u00b2 Score\",\"x\":[\"Ridge Regression\",\"Lasso Regression\",\"Random Forest\"],\"y\":[-0.004045180795481107,-0.001844634743385587,0.0012540365374688056],\"type\":\"bar\",\"xaxis\":\"x2\",\"yaxis\":\"y2\"}],                        {\"template\":{\"data\":{\"histogram2dcontour\":[{\"type\":\"histogram2dcontour\",\"colorbar\":{\"outlinewidth\":0,\"ticks\":\"\"},\"colorscale\":[[0.0,\"#0d0887\"],[0.1111111111111111,\"#46039f\"],[0.2222222222222222,\"#7201a8\"],[0.3333333333333333,\"#9c179e\"],[0.4444444444444444,\"#bd3786\"],[0.5555555555555556,\"#d8576b\"],[0.6666666666666666,\"#ed7953\"],[0.7777777777777778,\"#fb9f3a\"],[0.8888888888888888,\"#fdca26\"],[1.0,\"#f0f921\"]]}],\"choropleth\":[{\"type\":\"choropleth\",\"colorbar\":{\"outlinewidth\":0,\"ticks\":\"\"}}],\"histogram2d\":[{\"type\":\"histogram2d\",\"colorbar\":{\"outlinewidth\":0,\"ticks\":\"\"},\"colorscale\":[[0.0,\"#0d0887\"],[0.1111111111111111,\"#46039f\"],[0.2222222222222222,\"#7201a8\"],[0.3333333333333333,\"#9c179e\"],[0.4444444444444444,\"#bd3786\"],[0.5555555555555556,\"#d8576b\"],[0.6666666666666666,\"#ed7953\"],[0.7777777777777778,\"#fb9f3a\"],[0.8888888888888888,\"#fdca26\"],[1.0,\"#f0f921\"]]}],\"heatmap\":[{\"type\":\"heatmap\",\"colorbar\":{\"outlinewidth\":0,\"ticks\":\"\"},\"colorscale\":[[0.0,\"#0d0887\"],[0.1111111111111111,\"#46039f\"],[0.2222222222222222,\"#7201a8\"],[0.3333333333333333,\"#9c179e\"],[0.4444444444444444,\"#bd3786\"],[0.5555555555555556,\"#d8576b\"],[0.6666666666666666,\"#ed7953\"],[0.7777777777777778,\"#fb9f3a\"],[0.8888888888888888,\"#fdca26\"],[1.0,\"#f0f921\"]]}],\"contourcarpet\":[{\"type\":\"contourcarpet\",\"colorbar\":{\"outlinewidth\":0,\"ticks\":\"\"}}],\"contour\":[{\"type\":\"contour\",\"colorbar\":{\"outlinewidth\":0,\"ticks\":\"\"},\"colorscale\":[[0.0,\"#0d0887\"],[0.1111111111111111,\"#46039f\"],[0.2222222222222222,\"#7201a8\"],[0.3333333333333333,\"#9c179e\"],[0.4444444444444444,\"#bd3786\"],[0.5555555555555556,\"#d8576b\"],[0.6666666666666666,\"#ed7953\"],[0.7777777777777778,\"#fb9f3a\"],[0.8888888888888888,\"#fdca26\"],[1.0,\"#f0f921\"]]}],\"surface\":[{\"type\":\"surface\",\"colorbar\":{\"outlinewidth\":0,\"ticks\":\"\"},\"colorscale\":[[0.0,\"#0d0887\"],[0.1111111111111111,\"#46039f\"],[0.2222222222222222,\"#7201a8\"],[0.3333333333333333,\"#9c179e\"],[0.4444444444444444,\"#bd3786\"],[0.5555555555555556,\"#d8576b\"],[0.6666666666666666,\"#ed7953\"],[0.7777777777777778,\"#fb9f3a\"],[0.8888888888888888,\"#fdca26\"],[1.0,\"#f0f921\"]]}],\"mesh3d\":[{\"type\":\"mesh3d\",\"colorbar\":{\"outlinewidth\":0,\"ticks\":\"\"}}],\"scatter\":[{\"fillpattern\":{\"fillmode\":\"overlay\",\"size\":10,\"solidity\":0.2},\"type\":\"scatter\"}],\"parcoords\":[{\"type\":\"parcoords\",\"line\":{\"colorbar\":{\"outlinewidth\":0,\"ticks\":\"\"}}}],\"scatterpolargl\":[{\"type\":\"scatterpolargl\",\"marker\":{\"colorbar\":{\"outlinewidth\":0,\"ticks\":\"\"}}}],\"bar\":[{\"error_x\":{\"color\":\"#2a3f5f\"},\"error_y\":{\"color\":\"#2a3f5f\"},\"marker\":{\"line\":{\"color\":\"#E5ECF6\",\"width\":0.5},\"pattern\":{\"fillmode\":\"overlay\",\"size\":10,\"solidity\":0.2}},\"type\":\"bar\"}],\"scattergeo\":[{\"type\":\"scattergeo\",\"marker\":{\"colorbar\":{\"outlinewidth\":0,\"ticks\":\"\"}}}],\"scatterpolar\":[{\"type\":\"scatterpolar\",\"marker\":{\"colorbar\":{\"outlinewidth\":0,\"ticks\":\"\"}}}],\"histogram\":[{\"marker\":{\"pattern\":{\"fillmode\":\"overlay\",\"size\":10,\"solidity\":0.2}},\"type\":\"histogram\"}],\"scattergl\":[{\"type\":\"scattergl\",\"marker\":{\"colorbar\":{\"outlinewidth\":0,\"ticks\":\"\"}}}],\"scatter3d\":[{\"type\":\"scatter3d\",\"line\":{\"colorbar\":{\"outlinewidth\":0,\"ticks\":\"\"}},\"marker\":{\"colorbar\":{\"outlinewidth\":0,\"ticks\":\"\"}}}],\"scattermap\":[{\"type\":\"scattermap\",\"marker\":{\"colorbar\":{\"outlinewidth\":0,\"ticks\":\"\"}}}],\"scattermapbox\":[{\"type\":\"scattermapbox\",\"marker\":{\"colorbar\":{\"outlinewidth\":0,\"ticks\":\"\"}}}],\"scatterternary\":[{\"type\":\"scatterternary\",\"marker\":{\"colorbar\":{\"outlinewidth\":0,\"ticks\":\"\"}}}],\"scattercarpet\":[{\"type\":\"scattercarpet\",\"marker\":{\"colorbar\":{\"outlinewidth\":0,\"ticks\":\"\"}}}],\"carpet\":[{\"aaxis\":{\"endlinecolor\":\"#2a3f5f\",\"gridcolor\":\"white\",\"linecolor\":\"white\",\"minorgridcolor\":\"white\",\"startlinecolor\":\"#2a3f5f\"},\"baxis\":{\"endlinecolor\":\"#2a3f5f\",\"gridcolor\":\"white\",\"linecolor\":\"white\",\"minorgridcolor\":\"white\",\"startlinecolor\":\"#2a3f5f\"},\"type\":\"carpet\"}],\"table\":[{\"cells\":{\"fill\":{\"color\":\"#EBF0F8\"},\"line\":{\"color\":\"white\"}},\"header\":{\"fill\":{\"color\":\"#C8D4E3\"},\"line\":{\"color\":\"white\"}},\"type\":\"table\"}],\"barpolar\":[{\"marker\":{\"line\":{\"color\":\"#E5ECF6\",\"width\":0.5},\"pattern\":{\"fillmode\":\"overlay\",\"size\":10,\"solidity\":0.2}},\"type\":\"barpolar\"}],\"pie\":[{\"automargin\":true,\"type\":\"pie\"}]},\"layout\":{\"autotypenumbers\":\"strict\",\"colorway\":[\"#636efa\",\"#EF553B\",\"#00cc96\",\"#ab63fa\",\"#FFA15A\",\"#19d3f3\",\"#FF6692\",\"#B6E880\",\"#FF97FF\",\"#FECB52\"],\"font\":{\"color\":\"#2a3f5f\"},\"hovermode\":\"closest\",\"hoverlabel\":{\"align\":\"left\"},\"paper_bgcolor\":\"white\",\"plot_bgcolor\":\"#E5ECF6\",\"polar\":{\"bgcolor\":\"#E5ECF6\",\"angularaxis\":{\"gridcolor\":\"white\",\"linecolor\":\"white\",\"ticks\":\"\"},\"radialaxis\":{\"gridcolor\":\"white\",\"linecolor\":\"white\",\"ticks\":\"\"}},\"ternary\":{\"bgcolor\":\"#E5ECF6\",\"aaxis\":{\"gridcolor\":\"white\",\"linecolor\":\"white\",\"ticks\":\"\"},\"baxis\":{\"gridcolor\":\"white\",\"linecolor\":\"white\",\"ticks\":\"\"},\"caxis\":{\"gridcolor\":\"white\",\"linecolor\":\"white\",\"ticks\":\"\"}},\"coloraxis\":{\"colorbar\":{\"outlinewidth\":0,\"ticks\":\"\"}},\"colorscale\":{\"sequential\":[[0.0,\"#0d0887\"],[0.1111111111111111,\"#46039f\"],[0.2222222222222222,\"#7201a8\"],[0.3333333333333333,\"#9c179e\"],[0.4444444444444444,\"#bd3786\"],[0.5555555555555556,\"#d8576b\"],[0.6666666666666666,\"#ed7953\"],[0.7777777777777778,\"#fb9f3a\"],[0.8888888888888888,\"#fdca26\"],[1.0,\"#f0f921\"]],\"sequentialminus\":[[0.0,\"#0d0887\"],[0.1111111111111111,\"#46039f\"],[0.2222222222222222,\"#7201a8\"],[0.3333333333333333,\"#9c179e\"],[0.4444444444444444,\"#bd3786\"],[0.5555555555555556,\"#d8576b\"],[0.6666666666666666,\"#ed7953\"],[0.7777777777777778,\"#fb9f3a\"],[0.8888888888888888,\"#fdca26\"],[1.0,\"#f0f921\"]],\"diverging\":[[0,\"#8e0152\"],[0.1,\"#c51b7d\"],[0.2,\"#de77ae\"],[0.3,\"#f1b6da\"],[0.4,\"#fde0ef\"],[0.5,\"#f7f7f7\"],[0.6,\"#e6f5d0\"],[0.7,\"#b8e186\"],[0.8,\"#7fbc41\"],[0.9,\"#4d9221\"],[1,\"#276419\"]]},\"xaxis\":{\"gridcolor\":\"white\",\"linecolor\":\"white\",\"ticks\":\"\",\"title\":{\"standoff\":15},\"zerolinecolor\":\"white\",\"automargin\":true,\"zerolinewidth\":2},\"yaxis\":{\"gridcolor\":\"white\",\"linecolor\":\"white\",\"ticks\":\"\",\"title\":{\"standoff\":15},\"zerolinecolor\":\"white\",\"automargin\":true,\"zerolinewidth\":2},\"scene\":{\"xaxis\":{\"backgroundcolor\":\"#E5ECF6\",\"gridcolor\":\"white\",\"linecolor\":\"white\",\"showbackground\":true,\"ticks\":\"\",\"zerolinecolor\":\"white\",\"gridwidth\":2},\"yaxis\":{\"backgroundcolor\":\"#E5ECF6\",\"gridcolor\":\"white\",\"linecolor\":\"white\",\"showbackground\":true,\"ticks\":\"\",\"zerolinecolor\":\"white\",\"gridwidth\":2},\"zaxis\":{\"backgroundcolor\":\"#E5ECF6\",\"gridcolor\":\"white\",\"linecolor\":\"white\",\"showbackground\":true,\"ticks\":\"\",\"zerolinecolor\":\"white\",\"gridwidth\":2}},\"shapedefaults\":{\"line\":{\"color\":\"#2a3f5f\"}},\"annotationdefaults\":{\"arrowcolor\":\"#2a3f5f\",\"arrowhead\":0,\"arrowwidth\":1},\"geo\":{\"bgcolor\":\"white\",\"landcolor\":\"#E5ECF6\",\"subunitcolor\":\"white\",\"showland\":true,\"showlakes\":true,\"lakecolor\":\"white\"},\"title\":{\"x\":0.05},\"mapbox\":{\"style\":\"light\"}}},\"xaxis\":{\"anchor\":\"y\",\"domain\":[0.0,0.2888888888888889]},\"yaxis\":{\"anchor\":\"x\",\"domain\":[0.0,0.25333333333333335]},\"xaxis2\":{\"anchor\":\"y2\",\"domain\":[0.7111111111111111,1.0]},\"yaxis2\":{\"anchor\":\"x2\",\"domain\":[0.0,0.25333333333333335]},\"annotations\":[{\"font\":{\"size\":16},\"showarrow\":false,\"text\":\"Chiffre Affaires Total\",\"x\":0.14444444444444446,\"xanchor\":\"center\",\"xref\":\"paper\",\"y\":1.0,\"yanchor\":\"bottom\",\"yref\":\"paper\"},{\"font\":{\"size\":16},\"showarrow\":false,\"text\":\"Commandes Totales\",\"x\":0.5,\"xanchor\":\"center\",\"xref\":\"paper\",\"y\":1.0,\"yanchor\":\"bottom\",\"yref\":\"paper\"},{\"font\":{\"size\":16},\"showarrow\":false,\"text\":\"Clients Uniques\",\"x\":0.8555555555555556,\"xanchor\":\"center\",\"xref\":\"paper\",\"y\":1.0,\"yanchor\":\"bottom\",\"yref\":\"paper\"},{\"font\":{\"size\":16},\"showarrow\":false,\"text\":\"Panier Moyen\",\"x\":0.14444444444444446,\"xanchor\":\"center\",\"xref\":\"paper\",\"y\":0.6266666666666667,\"yanchor\":\"bottom\",\"yref\":\"paper\"},{\"font\":{\"size\":16},\"showarrow\":false,\"text\":\"CA Quotidien Moyen\",\"x\":0.5,\"xanchor\":\"center\",\"xref\":\"paper\",\"y\":0.6266666666666667,\"yanchor\":\"bottom\",\"yref\":\"paper\"},{\"font\":{\"size\":16},\"showarrow\":false,\"text\":\"Produits Vendus\",\"x\":0.8555555555555556,\"xanchor\":\"center\",\"xref\":\"paper\",\"y\":0.6266666666666667,\"yanchor\":\"bottom\",\"yref\":\"paper\"},{\"font\":{\"size\":16},\"showarrow\":false,\"text\":\"Tendance Mensuelle\",\"x\":0.14444444444444446,\"xanchor\":\"center\",\"xref\":\"paper\",\"y\":0.25333333333333335,\"yanchor\":\"bottom\",\"yref\":\"paper\"},{\"font\":{\"size\":16},\"showarrow\":false,\"text\":\"Top Cat\\u00e9gories\",\"x\":0.5,\"xanchor\":\"center\",\"xref\":\"paper\",\"y\":0.25333333333333335,\"yanchor\":\"bottom\",\"yref\":\"paper\"},{\"font\":{\"size\":16},\"showarrow\":false,\"text\":\"Performance Mod\\u00e8le\",\"x\":0.8555555555555556,\"xanchor\":\"center\",\"xref\":\"paper\",\"y\":0.25333333333333335,\"yanchor\":\"bottom\",\"yref\":\"paper\"}],\"title\":{\"text\":\"Dashboard Yshop - Vue d'Ensemble\",\"x\":0.5},\"height\":900,\"showlegend\":false},                        {\"responsive\": true}                    ).then(function(){\n",
       "                            \n",
       "var gd = document.getElementById('a49864da-7e8b-4b17-9864-a2acf6b186b5');\n",
       "var x = new MutationObserver(function (mutations, observer) {{\n",
       "        var display = window.getComputedStyle(gd).display;\n",
       "        if (!display || display === 'none') {{\n",
       "            console.log([gd, 'removed!']);\n",
       "            Plotly.purge(gd);\n",
       "            observer.disconnect();\n",
       "        }}\n",
       "}});\n",
       "\n",
       "// Listen for the removal of the full notebook cells\n",
       "var notebookContainer = gd.closest('#notebook-container');\n",
       "if (notebookContainer) {{\n",
       "    x.observe(notebookContainer, {childList: true});\n",
       "}}\n",
       "\n",
       "// Listen for the clearing of the current output cell\n",
       "var outputEl = gd.closest('.output');\n",
       "if (outputEl) {{\n",
       "    x.observe(outputEl, {childList: true});\n",
       "}}\n",
       "\n",
       "                        })                };            </script>        </div>"
      ]
     },
     "metadata": {},
     "output_type": "display_data"
    },
    {
     "name": "stdout",
     "output_type": "stream",
     "text": [
      "\n",
      "INSIGHTS CLÉS POUR YSHOP\n",
      "========================================\n",
      "Chiffre d'affaires total: 10,642,128.80 €\n",
      "Nombre de commandes: 19,960\n",
      "Clients uniques: 4,338\n",
      "Panier moyen: 533.17 €\n",
      "CA quotidien moyen: 28531.18 €\n",
      "Unités vendues: 5,572,421\n",
      "Pays desservis: 38\n",
      "Catégories de produits: 11\n",
      "Produits uniques: 3922\n"
     ]
    }
   ],
   "source": [
    "# 5.1 Dashboard de Synthèse des KPIs\n",
    "print(\"DASHBOARD DE SYNTHÈSE - KPIs YSHOP\")\n",
    "print(\"=\" * 60)\n",
    "\n",
    "# Calcul des KPIs principaux\n",
    "total_revenue = df['total_price'].sum()\n",
    "total_quantity = df['quantity'].sum()\n",
    "total_orders = df['invoice_id'].nunique()\n",
    "total_customers = df['customer_id'].nunique()\n",
    "avg_order_value = total_revenue / total_orders\n",
    "days_in_period = (df['date'].max() - df['date'].min()).days\n",
    "daily_avg_revenue = total_revenue / days_in_period\n",
    "\n",
    "# Création d'un dashboard avec des gauges et métriques\n",
    "fig_dashboard = make_subplots(\n",
    "    rows=3, cols=3,\n",
    "    subplot_titles=(\n",
    "        'Chiffre Affaires Total', 'Commandes Totales', 'Clients Uniques',\n",
    "        'Panier Moyen', 'CA Quotidien Moyen', 'Produits Vendus',\n",
    "        'Tendance Mensuelle', 'Top Catégories', 'Performance Modèle'\n",
    "    ),\n",
    "    specs=[[{\"type\": \"indicator\"}, {\"type\": \"indicator\"}, {\"type\": \"indicator\"}],\n",
    "           [{\"type\": \"indicator\"}, {\"type\": \"indicator\"}, {\"type\": \"indicator\"}],\n",
    "           [{\"type\": \"bar\"}, {\"type\": \"pie\"}, {\"type\": \"scatter\"}]],\n",
    "    vertical_spacing=0.12\n",
    ")\n",
    "\n",
    "# KPI 1: Chiffre d'Affaires Total\n",
    "fig_dashboard.add_trace(go.Indicator(\n",
    "    mode=\"number\",\n",
    "    value=total_revenue,\n",
    "    title={\"text\": \"Chiffre Affaires (€)\"},\n",
    "    number={'prefix': \"\", 'suffix': \" €\", 'font': {'size': 20}},\n",
    "    domain={'row': 0, 'column': 0}\n",
    "), row=1, col=1)\n",
    "\n",
    "# KPI 2: Commandes Totales\n",
    "fig_dashboard.add_trace(go.Indicator(\n",
    "    mode=\"number\",\n",
    "    value=total_orders,\n",
    "    title={\"text\": \"Commandes Totales\"},\n",
    "    number={'font': {'size': 20}},\n",
    "    domain={'row': 0, 'column': 1}\n",
    "), row=1, col=2)\n",
    "\n",
    "# KPI 3: Clients Uniques\n",
    "fig_dashboard.add_trace(go.Indicator(\n",
    "    mode=\"number\",\n",
    "    value=total_customers,\n",
    "    title={\"text\": \"Clients Uniques\"},\n",
    "    number={'font': {'size': 20}},\n",
    "    domain={'row': 0, 'column': 2}\n",
    "), row=1, col=3)\n",
    "\n",
    "# KPI 4: Panier Moyen\n",
    "fig_dashboard.add_trace(go.Indicator(\n",
    "    mode=\"number\",\n",
    "    value=avg_order_value,\n",
    "    title={\"text\": \"Panier Moyen (€)\"},\n",
    "    number={'prefix': \"\", 'suffix': \" €\", 'font': {'size': 20}},\n",
    "    domain={'row': 1, 'column': 0}\n",
    "), row=2, col=1)\n",
    "\n",
    "# KPI 5: CA Quotidien Moyen\n",
    "fig_dashboard.add_trace(go.Indicator(\n",
    "    mode=\"number\",\n",
    "    value=daily_avg_revenue,\n",
    "    title={\"text\": \"CA Quotidien Moyen (€)\"},\n",
    "    number={'prefix': \"\", 'suffix': \" €\", 'font': {'size': 20}},\n",
    "    domain={'row': 1, 'column': 1}\n",
    "), row=2, col=2)\n",
    "\n",
    "# KPI 6: Produits Vendus\n",
    "fig_dashboard.add_trace(go.Indicator(\n",
    "    mode=\"number\",\n",
    "    value=total_quantity,\n",
    "    title={\"text\": \"Unités Vendues\"},\n",
    "    number={'font': {'size': 20}},\n",
    "    domain={'row': 1, 'column': 2}\n",
    "), row=2, col=3)\n",
    "\n",
    "# Graphique 7: Tendance Mensuelle\n",
    "monthly_trend = df.groupby(df['date'].dt.to_period('M'))['total_price'].sum()\n",
    "fig_dashboard.add_trace(go.Bar(\n",
    "    x=[str(x) for x in monthly_trend.index],\n",
    "    y=monthly_trend.values,\n",
    "    name=\"CA Mensuel\",\n",
    "    marker_color='lightblue'\n",
    "), row=3, col=1)\n",
    "\n",
    "# Graphique 8: Top Catégories\n",
    "top_categories = df.groupby('category')['total_price'].sum().sort_values(ascending=False).head(5)\n",
    "fig_dashboard.add_trace(go.Pie(\n",
    "    labels=top_categories.index,\n",
    "    values=top_categories.values,\n",
    "    name=\"Top Catégories\"\n",
    "), row=3, col=2)\n",
    "\n",
    "# Graphique 9: Performance du Modèle\n",
    "model_performance = pd.DataFrame(list(results.items()), columns=['Modèle', 'Métriques'])\n",
    "r2_scores = [results[model]['R²'] for model in results.keys()]\n",
    "fig_dashboard.add_trace(go.Bar(\n",
    "    x=list(results.keys()),\n",
    "    y=r2_scores,\n",
    "    name=\"R² Score\",\n",
    "    marker_color='lightgreen'\n",
    "), row=3, col=3)\n",
    "\n",
    "fig_dashboard.update_layout(\n",
    "    height=900,\n",
    "    showlegend=False,\n",
    "    title_text=\"Dashboard Yshop - Vue d'Ensemble\",\n",
    "    title_x=0.5\n",
    ")\n",
    "\n",
    "fig_dashboard.show()\n",
    "\n",
    "# Affichage des insights clés\n",
    "print(f\"\\nINSIGHTS CLÉS POUR YSHOP\")\n",
    "print(\"=\" * 40)\n",
    "print(f\"Chiffre d'affaires total: {total_revenue:,.2f} €\")\n",
    "print(f\"Nombre de commandes: {total_orders:,}\")\n",
    "print(f\"Clients uniques: {total_customers:,}\")\n",
    "print(f\"Panier moyen: {avg_order_value:.2f} €\")\n",
    "print(f\"CA quotidien moyen: {daily_avg_revenue:.2f} €\")\n",
    "print(f\"Unités vendues: {total_quantity:,}\")\n",
    "print(f\"Pays desservis: {df['country'].nunique()}\")\n",
    "print(f\"Catégories de produits: {df['category'].nunique()}\")\n",
    "print(f\"Produits uniques: {df['product_code'].nunique()}\")"
   ]
  },
  {
   "cell_type": "markdown",
   "id": "4b2194cf",
   "metadata": {},
   "source": [
    "## 6. Conclusions et Recommandations Business\n",
    "\n",
    "### Résultats de l'Analyse\n",
    "\n",
    "#### Performance des Modèles\n",
    "- **Modèle le plus performant** : Basé sur les métriques R², RMSE et MAE\n",
    "- **Précision des prédictions** : Capacité à prédire les ventes futures avec une marge d'erreur acceptable\n",
    "- **Features importantes** : Les variables temporelles et les tendances historiques sont cruciales\n",
    "\n",
    "#### Patterns Identifiés\n",
    "1. **Saisonnalité** : Variations clairement identifiées selon les mois et jours de la semaine\n",
    "2. **Géographie** : Concentration des ventes sur certains pays\n",
    "3. **Catégories** : Performance inégale selon les types de produits\n",
    "4. **Clients** : Comportements d'achat analysés\n",
    "\n",
    "### Recommandations pour Yshop\n",
    "\n",
    "#### 1. Optimisation des Stocks\n",
    "- **Planification prévisionnelle** : Utiliser les prédictions pour anticiper les besoins en stock\n",
    "- **Gestion par catégorie** : Adapter les stocks selon la performance de chaque catégorie\n",
    "- **Saisonnalité** : Prévoir des stocks renforcés pendant les périodes de forte demande\n",
    "\n",
    "#### 2. Stratégie Marketing\n",
    "- **Ciblage géographique** : Concentrer les efforts marketing sur les pays les plus rentables\n",
    "- **Timing optimal** : Lancer les campagnes aux moments de forte activité identifiés\n",
    "- **Segmentation produits** : Promouvoir davantage les catégories les plus performantes\n",
    "\n",
    "#### 3. Amélioration de l'Experience Client\n",
    "- **Personnalisation** : Adapter l'offre selon les préférences par pays/région\n",
    "- **Fidélisation** : Programmes spéciaux pour maintenir et développer la base client\n",
    "- **Panier moyen** : Stratégies pour augmenter la valeur moyenne des commandes\n",
    "\n",
    "#### 4. Innovation et Développement\n",
    "- **Nouveaux produits** : Explorer les catégories sous-représentées avec du potentiel\n",
    "- **Marchés émergents** : Identifier de nouveaux pays/régions à cibler\n",
    "- **Optimisation opérationnelle** : Améliorer les processus pour réduire les coûts"
   ]
  }
 ],
 "metadata": {
  "kernelspec": {
   "display_name": "Python 3",
   "language": "python",
   "name": "python3"
  },
  "language_info": {
   "codemirror_mode": {
    "name": "ipython",
    "version": 3
   },
   "file_extension": ".py",
   "mimetype": "text/x-python",
   "name": "python",
   "nbconvert_exporter": "python",
   "pygments_lexer": "ipython3",
   "version": "3.13.3"
  }
 },
 "nbformat": 4,
 "nbformat_minor": 5
}
